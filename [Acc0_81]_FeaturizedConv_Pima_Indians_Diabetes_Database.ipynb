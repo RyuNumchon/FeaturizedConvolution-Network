{
  "nbformat": 4,
  "nbformat_minor": 0,
  "metadata": {
    "colab": {
      "provenance": [],
      "collapsed_sections": [
        "xCkt8mpXuV7s",
        "XuZkvagpsn0Z",
        "ivhbe9h3uLNX",
        "iYh1SJ-ihi6Q",
        "xwmhbeYgtVjD",
        "ptRxeIlNlohf",
        "7fCP-v9qoh3Z",
        "2rZckN3cpSWK",
        "Vu4Zk4WkpWQ1"
      ],
      "toc_visible": true
    },
    "kernelspec": {
      "name": "python3",
      "display_name": "Python 3"
    },
    "language_info": {
      "name": "python"
    },
    "widgets": {
      "application/vnd.jupyter.widget-state+json": {
        "49bbfc4b2e264727aeed57618bef4f0b": {
          "model_module": "@jupyter-widgets/controls",
          "model_name": "HBoxModel",
          "model_module_version": "1.5.0",
          "state": {
            "_dom_classes": [],
            "_model_module": "@jupyter-widgets/controls",
            "_model_module_version": "1.5.0",
            "_model_name": "HBoxModel",
            "_view_count": null,
            "_view_module": "@jupyter-widgets/controls",
            "_view_module_version": "1.5.0",
            "_view_name": "HBoxView",
            "box_style": "",
            "children": [
              "IPY_MODEL_0c26dc389f3445e4b1e80f06f5ed0500",
              "IPY_MODEL_76a8e750006a4fb6b63250369f30cd77",
              "IPY_MODEL_fa82468b6294497f87cfce9fff9e25a2"
            ],
            "layout": "IPY_MODEL_3b99c5b2f40249198fd7ca910650834d"
          }
        },
        "0c26dc389f3445e4b1e80f06f5ed0500": {
          "model_module": "@jupyter-widgets/controls",
          "model_name": "HTMLModel",
          "model_module_version": "1.5.0",
          "state": {
            "_dom_classes": [],
            "_model_module": "@jupyter-widgets/controls",
            "_model_module_version": "1.5.0",
            "_model_name": "HTMLModel",
            "_view_count": null,
            "_view_module": "@jupyter-widgets/controls",
            "_view_module_version": "1.5.0",
            "_view_name": "HTMLView",
            "description": "",
            "description_tooltip": null,
            "layout": "IPY_MODEL_5f04d6cddf2444128877c1c30bfbeafe",
            "placeholder": "​",
            "style": "IPY_MODEL_adbf06c89db24ae88c096b499e92c7c3",
            "value": "training the model ...: 100%"
          }
        },
        "76a8e750006a4fb6b63250369f30cd77": {
          "model_module": "@jupyter-widgets/controls",
          "model_name": "FloatProgressModel",
          "model_module_version": "1.5.0",
          "state": {
            "_dom_classes": [],
            "_model_module": "@jupyter-widgets/controls",
            "_model_module_version": "1.5.0",
            "_model_name": "FloatProgressModel",
            "_view_count": null,
            "_view_module": "@jupyter-widgets/controls",
            "_view_module_version": "1.5.0",
            "_view_name": "ProgressView",
            "bar_style": "success",
            "description": "",
            "description_tooltip": null,
            "layout": "IPY_MODEL_be6b36d5dd7f4d05915cda2780f01583",
            "max": 300,
            "min": 0,
            "orientation": "horizontal",
            "style": "IPY_MODEL_b14c4288f6da4d94a165201e875fe612",
            "value": 300
          }
        },
        "fa82468b6294497f87cfce9fff9e25a2": {
          "model_module": "@jupyter-widgets/controls",
          "model_name": "HTMLModel",
          "model_module_version": "1.5.0",
          "state": {
            "_dom_classes": [],
            "_model_module": "@jupyter-widgets/controls",
            "_model_module_version": "1.5.0",
            "_model_name": "HTMLModel",
            "_view_count": null,
            "_view_module": "@jupyter-widgets/controls",
            "_view_module_version": "1.5.0",
            "_view_name": "HTMLView",
            "description": "",
            "description_tooltip": null,
            "layout": "IPY_MODEL_fea7acaf122840a18e5201848ceb0c88",
            "placeholder": "​",
            "style": "IPY_MODEL_3051ce34460a460ca5ac303e89bd65fe",
            "value": " 300/300 [00:53&lt;00:00,  6.24it/s]"
          }
        },
        "3b99c5b2f40249198fd7ca910650834d": {
          "model_module": "@jupyter-widgets/base",
          "model_name": "LayoutModel",
          "model_module_version": "1.2.0",
          "state": {
            "_model_module": "@jupyter-widgets/base",
            "_model_module_version": "1.2.0",
            "_model_name": "LayoutModel",
            "_view_count": null,
            "_view_module": "@jupyter-widgets/base",
            "_view_module_version": "1.2.0",
            "_view_name": "LayoutView",
            "align_content": null,
            "align_items": null,
            "align_self": null,
            "border": null,
            "bottom": null,
            "display": null,
            "flex": null,
            "flex_flow": null,
            "grid_area": null,
            "grid_auto_columns": null,
            "grid_auto_flow": null,
            "grid_auto_rows": null,
            "grid_column": null,
            "grid_gap": null,
            "grid_row": null,
            "grid_template_areas": null,
            "grid_template_columns": null,
            "grid_template_rows": null,
            "height": null,
            "justify_content": null,
            "justify_items": null,
            "left": null,
            "margin": null,
            "max_height": null,
            "max_width": null,
            "min_height": null,
            "min_width": null,
            "object_fit": null,
            "object_position": null,
            "order": null,
            "overflow": null,
            "overflow_x": null,
            "overflow_y": null,
            "padding": null,
            "right": null,
            "top": null,
            "visibility": null,
            "width": null
          }
        },
        "5f04d6cddf2444128877c1c30bfbeafe": {
          "model_module": "@jupyter-widgets/base",
          "model_name": "LayoutModel",
          "model_module_version": "1.2.0",
          "state": {
            "_model_module": "@jupyter-widgets/base",
            "_model_module_version": "1.2.0",
            "_model_name": "LayoutModel",
            "_view_count": null,
            "_view_module": "@jupyter-widgets/base",
            "_view_module_version": "1.2.0",
            "_view_name": "LayoutView",
            "align_content": null,
            "align_items": null,
            "align_self": null,
            "border": null,
            "bottom": null,
            "display": null,
            "flex": null,
            "flex_flow": null,
            "grid_area": null,
            "grid_auto_columns": null,
            "grid_auto_flow": null,
            "grid_auto_rows": null,
            "grid_column": null,
            "grid_gap": null,
            "grid_row": null,
            "grid_template_areas": null,
            "grid_template_columns": null,
            "grid_template_rows": null,
            "height": null,
            "justify_content": null,
            "justify_items": null,
            "left": null,
            "margin": null,
            "max_height": null,
            "max_width": null,
            "min_height": null,
            "min_width": null,
            "object_fit": null,
            "object_position": null,
            "order": null,
            "overflow": null,
            "overflow_x": null,
            "overflow_y": null,
            "padding": null,
            "right": null,
            "top": null,
            "visibility": null,
            "width": null
          }
        },
        "adbf06c89db24ae88c096b499e92c7c3": {
          "model_module": "@jupyter-widgets/controls",
          "model_name": "DescriptionStyleModel",
          "model_module_version": "1.5.0",
          "state": {
            "_model_module": "@jupyter-widgets/controls",
            "_model_module_version": "1.5.0",
            "_model_name": "DescriptionStyleModel",
            "_view_count": null,
            "_view_module": "@jupyter-widgets/base",
            "_view_module_version": "1.2.0",
            "_view_name": "StyleView",
            "description_width": ""
          }
        },
        "be6b36d5dd7f4d05915cda2780f01583": {
          "model_module": "@jupyter-widgets/base",
          "model_name": "LayoutModel",
          "model_module_version": "1.2.0",
          "state": {
            "_model_module": "@jupyter-widgets/base",
            "_model_module_version": "1.2.0",
            "_model_name": "LayoutModel",
            "_view_count": null,
            "_view_module": "@jupyter-widgets/base",
            "_view_module_version": "1.2.0",
            "_view_name": "LayoutView",
            "align_content": null,
            "align_items": null,
            "align_self": null,
            "border": null,
            "bottom": null,
            "display": null,
            "flex": null,
            "flex_flow": null,
            "grid_area": null,
            "grid_auto_columns": null,
            "grid_auto_flow": null,
            "grid_auto_rows": null,
            "grid_column": null,
            "grid_gap": null,
            "grid_row": null,
            "grid_template_areas": null,
            "grid_template_columns": null,
            "grid_template_rows": null,
            "height": null,
            "justify_content": null,
            "justify_items": null,
            "left": null,
            "margin": null,
            "max_height": null,
            "max_width": null,
            "min_height": null,
            "min_width": null,
            "object_fit": null,
            "object_position": null,
            "order": null,
            "overflow": null,
            "overflow_x": null,
            "overflow_y": null,
            "padding": null,
            "right": null,
            "top": null,
            "visibility": null,
            "width": null
          }
        },
        "b14c4288f6da4d94a165201e875fe612": {
          "model_module": "@jupyter-widgets/controls",
          "model_name": "ProgressStyleModel",
          "model_module_version": "1.5.0",
          "state": {
            "_model_module": "@jupyter-widgets/controls",
            "_model_module_version": "1.5.0",
            "_model_name": "ProgressStyleModel",
            "_view_count": null,
            "_view_module": "@jupyter-widgets/base",
            "_view_module_version": "1.2.0",
            "_view_name": "StyleView",
            "bar_color": null,
            "description_width": ""
          }
        },
        "fea7acaf122840a18e5201848ceb0c88": {
          "model_module": "@jupyter-widgets/base",
          "model_name": "LayoutModel",
          "model_module_version": "1.2.0",
          "state": {
            "_model_module": "@jupyter-widgets/base",
            "_model_module_version": "1.2.0",
            "_model_name": "LayoutModel",
            "_view_count": null,
            "_view_module": "@jupyter-widgets/base",
            "_view_module_version": "1.2.0",
            "_view_name": "LayoutView",
            "align_content": null,
            "align_items": null,
            "align_self": null,
            "border": null,
            "bottom": null,
            "display": null,
            "flex": null,
            "flex_flow": null,
            "grid_area": null,
            "grid_auto_columns": null,
            "grid_auto_flow": null,
            "grid_auto_rows": null,
            "grid_column": null,
            "grid_gap": null,
            "grid_row": null,
            "grid_template_areas": null,
            "grid_template_columns": null,
            "grid_template_rows": null,
            "height": null,
            "justify_content": null,
            "justify_items": null,
            "left": null,
            "margin": null,
            "max_height": null,
            "max_width": null,
            "min_height": null,
            "min_width": null,
            "object_fit": null,
            "object_position": null,
            "order": null,
            "overflow": null,
            "overflow_x": null,
            "overflow_y": null,
            "padding": null,
            "right": null,
            "top": null,
            "visibility": null,
            "width": null
          }
        },
        "3051ce34460a460ca5ac303e89bd65fe": {
          "model_module": "@jupyter-widgets/controls",
          "model_name": "DescriptionStyleModel",
          "model_module_version": "1.5.0",
          "state": {
            "_model_module": "@jupyter-widgets/controls",
            "_model_module_version": "1.5.0",
            "_model_name": "DescriptionStyleModel",
            "_view_count": null,
            "_view_module": "@jupyter-widgets/base",
            "_view_module_version": "1.2.0",
            "_view_name": "StyleView",
            "description_width": ""
          }
        },
        "3c7c46235d3c4b0cbcb002fdbe50190e": {
          "model_module": "@jupyter-widgets/controls",
          "model_name": "HBoxModel",
          "model_module_version": "1.5.0",
          "state": {
            "_dom_classes": [],
            "_model_module": "@jupyter-widgets/controls",
            "_model_module_version": "1.5.0",
            "_model_name": "HBoxModel",
            "_view_count": null,
            "_view_module": "@jupyter-widgets/controls",
            "_view_module_version": "1.5.0",
            "_view_name": "HBoxView",
            "box_style": "",
            "children": [
              "IPY_MODEL_6ec8a525250f4a44bce81ff06d6d8700",
              "IPY_MODEL_9291ef96bf2640e68808050891eba223",
              "IPY_MODEL_e1da773b624541aa8fb21fc4087de932"
            ],
            "layout": "IPY_MODEL_fd49715cbf42490a838989ecf645252a"
          }
        },
        "6ec8a525250f4a44bce81ff06d6d8700": {
          "model_module": "@jupyter-widgets/controls",
          "model_name": "HTMLModel",
          "model_module_version": "1.5.0",
          "state": {
            "_dom_classes": [],
            "_model_module": "@jupyter-widgets/controls",
            "_model_module_version": "1.5.0",
            "_model_name": "HTMLModel",
            "_view_count": null,
            "_view_module": "@jupyter-widgets/controls",
            "_view_module_version": "1.5.0",
            "_view_name": "HTMLView",
            "description": "",
            "description_tooltip": null,
            "layout": "IPY_MODEL_f9d006fed0e740aca09b3598cb5bbff4",
            "placeholder": "​",
            "style": "IPY_MODEL_d14feab7fb8542d7bf59b886ad3925b2",
            "value": "training the model ...: 100%"
          }
        },
        "9291ef96bf2640e68808050891eba223": {
          "model_module": "@jupyter-widgets/controls",
          "model_name": "FloatProgressModel",
          "model_module_version": "1.5.0",
          "state": {
            "_dom_classes": [],
            "_model_module": "@jupyter-widgets/controls",
            "_model_module_version": "1.5.0",
            "_model_name": "FloatProgressModel",
            "_view_count": null,
            "_view_module": "@jupyter-widgets/controls",
            "_view_module_version": "1.5.0",
            "_view_name": "ProgressView",
            "bar_style": "success",
            "description": "",
            "description_tooltip": null,
            "layout": "IPY_MODEL_c28b816f95294438971fa5b5c1df6639",
            "max": 300,
            "min": 0,
            "orientation": "horizontal",
            "style": "IPY_MODEL_e555a141c20045ab8534c4495ac818c9",
            "value": 300
          }
        },
        "e1da773b624541aa8fb21fc4087de932": {
          "model_module": "@jupyter-widgets/controls",
          "model_name": "HTMLModel",
          "model_module_version": "1.5.0",
          "state": {
            "_dom_classes": [],
            "_model_module": "@jupyter-widgets/controls",
            "_model_module_version": "1.5.0",
            "_model_name": "HTMLModel",
            "_view_count": null,
            "_view_module": "@jupyter-widgets/controls",
            "_view_module_version": "1.5.0",
            "_view_name": "HTMLView",
            "description": "",
            "description_tooltip": null,
            "layout": "IPY_MODEL_3af03693d5084cada1b5fd6ce22d2446",
            "placeholder": "​",
            "style": "IPY_MODEL_c031e7fec6a14557a2b8cf803c8b847f",
            "value": " 300/300 [00:57&lt;00:00,  5.68it/s]"
          }
        },
        "fd49715cbf42490a838989ecf645252a": {
          "model_module": "@jupyter-widgets/base",
          "model_name": "LayoutModel",
          "model_module_version": "1.2.0",
          "state": {
            "_model_module": "@jupyter-widgets/base",
            "_model_module_version": "1.2.0",
            "_model_name": "LayoutModel",
            "_view_count": null,
            "_view_module": "@jupyter-widgets/base",
            "_view_module_version": "1.2.0",
            "_view_name": "LayoutView",
            "align_content": null,
            "align_items": null,
            "align_self": null,
            "border": null,
            "bottom": null,
            "display": null,
            "flex": null,
            "flex_flow": null,
            "grid_area": null,
            "grid_auto_columns": null,
            "grid_auto_flow": null,
            "grid_auto_rows": null,
            "grid_column": null,
            "grid_gap": null,
            "grid_row": null,
            "grid_template_areas": null,
            "grid_template_columns": null,
            "grid_template_rows": null,
            "height": null,
            "justify_content": null,
            "justify_items": null,
            "left": null,
            "margin": null,
            "max_height": null,
            "max_width": null,
            "min_height": null,
            "min_width": null,
            "object_fit": null,
            "object_position": null,
            "order": null,
            "overflow": null,
            "overflow_x": null,
            "overflow_y": null,
            "padding": null,
            "right": null,
            "top": null,
            "visibility": null,
            "width": null
          }
        },
        "f9d006fed0e740aca09b3598cb5bbff4": {
          "model_module": "@jupyter-widgets/base",
          "model_name": "LayoutModel",
          "model_module_version": "1.2.0",
          "state": {
            "_model_module": "@jupyter-widgets/base",
            "_model_module_version": "1.2.0",
            "_model_name": "LayoutModel",
            "_view_count": null,
            "_view_module": "@jupyter-widgets/base",
            "_view_module_version": "1.2.0",
            "_view_name": "LayoutView",
            "align_content": null,
            "align_items": null,
            "align_self": null,
            "border": null,
            "bottom": null,
            "display": null,
            "flex": null,
            "flex_flow": null,
            "grid_area": null,
            "grid_auto_columns": null,
            "grid_auto_flow": null,
            "grid_auto_rows": null,
            "grid_column": null,
            "grid_gap": null,
            "grid_row": null,
            "grid_template_areas": null,
            "grid_template_columns": null,
            "grid_template_rows": null,
            "height": null,
            "justify_content": null,
            "justify_items": null,
            "left": null,
            "margin": null,
            "max_height": null,
            "max_width": null,
            "min_height": null,
            "min_width": null,
            "object_fit": null,
            "object_position": null,
            "order": null,
            "overflow": null,
            "overflow_x": null,
            "overflow_y": null,
            "padding": null,
            "right": null,
            "top": null,
            "visibility": null,
            "width": null
          }
        },
        "d14feab7fb8542d7bf59b886ad3925b2": {
          "model_module": "@jupyter-widgets/controls",
          "model_name": "DescriptionStyleModel",
          "model_module_version": "1.5.0",
          "state": {
            "_model_module": "@jupyter-widgets/controls",
            "_model_module_version": "1.5.0",
            "_model_name": "DescriptionStyleModel",
            "_view_count": null,
            "_view_module": "@jupyter-widgets/base",
            "_view_module_version": "1.2.0",
            "_view_name": "StyleView",
            "description_width": ""
          }
        },
        "c28b816f95294438971fa5b5c1df6639": {
          "model_module": "@jupyter-widgets/base",
          "model_name": "LayoutModel",
          "model_module_version": "1.2.0",
          "state": {
            "_model_module": "@jupyter-widgets/base",
            "_model_module_version": "1.2.0",
            "_model_name": "LayoutModel",
            "_view_count": null,
            "_view_module": "@jupyter-widgets/base",
            "_view_module_version": "1.2.0",
            "_view_name": "LayoutView",
            "align_content": null,
            "align_items": null,
            "align_self": null,
            "border": null,
            "bottom": null,
            "display": null,
            "flex": null,
            "flex_flow": null,
            "grid_area": null,
            "grid_auto_columns": null,
            "grid_auto_flow": null,
            "grid_auto_rows": null,
            "grid_column": null,
            "grid_gap": null,
            "grid_row": null,
            "grid_template_areas": null,
            "grid_template_columns": null,
            "grid_template_rows": null,
            "height": null,
            "justify_content": null,
            "justify_items": null,
            "left": null,
            "margin": null,
            "max_height": null,
            "max_width": null,
            "min_height": null,
            "min_width": null,
            "object_fit": null,
            "object_position": null,
            "order": null,
            "overflow": null,
            "overflow_x": null,
            "overflow_y": null,
            "padding": null,
            "right": null,
            "top": null,
            "visibility": null,
            "width": null
          }
        },
        "e555a141c20045ab8534c4495ac818c9": {
          "model_module": "@jupyter-widgets/controls",
          "model_name": "ProgressStyleModel",
          "model_module_version": "1.5.0",
          "state": {
            "_model_module": "@jupyter-widgets/controls",
            "_model_module_version": "1.5.0",
            "_model_name": "ProgressStyleModel",
            "_view_count": null,
            "_view_module": "@jupyter-widgets/base",
            "_view_module_version": "1.2.0",
            "_view_name": "StyleView",
            "bar_color": null,
            "description_width": ""
          }
        },
        "3af03693d5084cada1b5fd6ce22d2446": {
          "model_module": "@jupyter-widgets/base",
          "model_name": "LayoutModel",
          "model_module_version": "1.2.0",
          "state": {
            "_model_module": "@jupyter-widgets/base",
            "_model_module_version": "1.2.0",
            "_model_name": "LayoutModel",
            "_view_count": null,
            "_view_module": "@jupyter-widgets/base",
            "_view_module_version": "1.2.0",
            "_view_name": "LayoutView",
            "align_content": null,
            "align_items": null,
            "align_self": null,
            "border": null,
            "bottom": null,
            "display": null,
            "flex": null,
            "flex_flow": null,
            "grid_area": null,
            "grid_auto_columns": null,
            "grid_auto_flow": null,
            "grid_auto_rows": null,
            "grid_column": null,
            "grid_gap": null,
            "grid_row": null,
            "grid_template_areas": null,
            "grid_template_columns": null,
            "grid_template_rows": null,
            "height": null,
            "justify_content": null,
            "justify_items": null,
            "left": null,
            "margin": null,
            "max_height": null,
            "max_width": null,
            "min_height": null,
            "min_width": null,
            "object_fit": null,
            "object_position": null,
            "order": null,
            "overflow": null,
            "overflow_x": null,
            "overflow_y": null,
            "padding": null,
            "right": null,
            "top": null,
            "visibility": null,
            "width": null
          }
        },
        "c031e7fec6a14557a2b8cf803c8b847f": {
          "model_module": "@jupyter-widgets/controls",
          "model_name": "DescriptionStyleModel",
          "model_module_version": "1.5.0",
          "state": {
            "_model_module": "@jupyter-widgets/controls",
            "_model_module_version": "1.5.0",
            "_model_name": "DescriptionStyleModel",
            "_view_count": null,
            "_view_module": "@jupyter-widgets/base",
            "_view_module_version": "1.2.0",
            "_view_name": "StyleView",
            "description_width": ""
          }
        },
        "6ebd39840e784926958cd4a246c8141c": {
          "model_module": "@jupyter-widgets/controls",
          "model_name": "HBoxModel",
          "model_module_version": "1.5.0",
          "state": {
            "_dom_classes": [],
            "_model_module": "@jupyter-widgets/controls",
            "_model_module_version": "1.5.0",
            "_model_name": "HBoxModel",
            "_view_count": null,
            "_view_module": "@jupyter-widgets/controls",
            "_view_module_version": "1.5.0",
            "_view_name": "HBoxView",
            "box_style": "",
            "children": [
              "IPY_MODEL_0186af5e445e4bee92dc9b4bd6f220c1",
              "IPY_MODEL_af0c9f09fa1e4629b2c1378992232837",
              "IPY_MODEL_02c3c85b446149dcb5400a2022431318"
            ],
            "layout": "IPY_MODEL_0981cf20113449c18b5377993c5585dd"
          }
        },
        "0186af5e445e4bee92dc9b4bd6f220c1": {
          "model_module": "@jupyter-widgets/controls",
          "model_name": "HTMLModel",
          "model_module_version": "1.5.0",
          "state": {
            "_dom_classes": [],
            "_model_module": "@jupyter-widgets/controls",
            "_model_module_version": "1.5.0",
            "_model_name": "HTMLModel",
            "_view_count": null,
            "_view_module": "@jupyter-widgets/controls",
            "_view_module_version": "1.5.0",
            "_view_name": "HTMLView",
            "description": "",
            "description_tooltip": null,
            "layout": "IPY_MODEL_329e8d8f8d8c450c8fac841ac91a9207",
            "placeholder": "​",
            "style": "IPY_MODEL_a2e4a9d08b1841e292bce316863e7c77",
            "value": "training the model at fold1: 100%"
          }
        },
        "af0c9f09fa1e4629b2c1378992232837": {
          "model_module": "@jupyter-widgets/controls",
          "model_name": "FloatProgressModel",
          "model_module_version": "1.5.0",
          "state": {
            "_dom_classes": [],
            "_model_module": "@jupyter-widgets/controls",
            "_model_module_version": "1.5.0",
            "_model_name": "FloatProgressModel",
            "_view_count": null,
            "_view_module": "@jupyter-widgets/controls",
            "_view_module_version": "1.5.0",
            "_view_name": "ProgressView",
            "bar_style": "success",
            "description": "",
            "description_tooltip": null,
            "layout": "IPY_MODEL_407f2e2571e34d01b31839beccfdb1f1",
            "max": 300,
            "min": 0,
            "orientation": "horizontal",
            "style": "IPY_MODEL_1ab93b77467c49d5ba080f305eb9fb40",
            "value": 300
          }
        },
        "02c3c85b446149dcb5400a2022431318": {
          "model_module": "@jupyter-widgets/controls",
          "model_name": "HTMLModel",
          "model_module_version": "1.5.0",
          "state": {
            "_dom_classes": [],
            "_model_module": "@jupyter-widgets/controls",
            "_model_module_version": "1.5.0",
            "_model_name": "HTMLModel",
            "_view_count": null,
            "_view_module": "@jupyter-widgets/controls",
            "_view_module_version": "1.5.0",
            "_view_name": "HTMLView",
            "description": "",
            "description_tooltip": null,
            "layout": "IPY_MODEL_965bcb18490d40938edff3c283332708",
            "placeholder": "​",
            "style": "IPY_MODEL_64dd1aa59ff74cf1b7084a02b7db57e8",
            "value": " 300/300 [00:35&lt;00:00,  9.41it/s]"
          }
        },
        "0981cf20113449c18b5377993c5585dd": {
          "model_module": "@jupyter-widgets/base",
          "model_name": "LayoutModel",
          "model_module_version": "1.2.0",
          "state": {
            "_model_module": "@jupyter-widgets/base",
            "_model_module_version": "1.2.0",
            "_model_name": "LayoutModel",
            "_view_count": null,
            "_view_module": "@jupyter-widgets/base",
            "_view_module_version": "1.2.0",
            "_view_name": "LayoutView",
            "align_content": null,
            "align_items": null,
            "align_self": null,
            "border": null,
            "bottom": null,
            "display": null,
            "flex": null,
            "flex_flow": null,
            "grid_area": null,
            "grid_auto_columns": null,
            "grid_auto_flow": null,
            "grid_auto_rows": null,
            "grid_column": null,
            "grid_gap": null,
            "grid_row": null,
            "grid_template_areas": null,
            "grid_template_columns": null,
            "grid_template_rows": null,
            "height": null,
            "justify_content": null,
            "justify_items": null,
            "left": null,
            "margin": null,
            "max_height": null,
            "max_width": null,
            "min_height": null,
            "min_width": null,
            "object_fit": null,
            "object_position": null,
            "order": null,
            "overflow": null,
            "overflow_x": null,
            "overflow_y": null,
            "padding": null,
            "right": null,
            "top": null,
            "visibility": null,
            "width": null
          }
        },
        "329e8d8f8d8c450c8fac841ac91a9207": {
          "model_module": "@jupyter-widgets/base",
          "model_name": "LayoutModel",
          "model_module_version": "1.2.0",
          "state": {
            "_model_module": "@jupyter-widgets/base",
            "_model_module_version": "1.2.0",
            "_model_name": "LayoutModel",
            "_view_count": null,
            "_view_module": "@jupyter-widgets/base",
            "_view_module_version": "1.2.0",
            "_view_name": "LayoutView",
            "align_content": null,
            "align_items": null,
            "align_self": null,
            "border": null,
            "bottom": null,
            "display": null,
            "flex": null,
            "flex_flow": null,
            "grid_area": null,
            "grid_auto_columns": null,
            "grid_auto_flow": null,
            "grid_auto_rows": null,
            "grid_column": null,
            "grid_gap": null,
            "grid_row": null,
            "grid_template_areas": null,
            "grid_template_columns": null,
            "grid_template_rows": null,
            "height": null,
            "justify_content": null,
            "justify_items": null,
            "left": null,
            "margin": null,
            "max_height": null,
            "max_width": null,
            "min_height": null,
            "min_width": null,
            "object_fit": null,
            "object_position": null,
            "order": null,
            "overflow": null,
            "overflow_x": null,
            "overflow_y": null,
            "padding": null,
            "right": null,
            "top": null,
            "visibility": null,
            "width": null
          }
        },
        "a2e4a9d08b1841e292bce316863e7c77": {
          "model_module": "@jupyter-widgets/controls",
          "model_name": "DescriptionStyleModel",
          "model_module_version": "1.5.0",
          "state": {
            "_model_module": "@jupyter-widgets/controls",
            "_model_module_version": "1.5.0",
            "_model_name": "DescriptionStyleModel",
            "_view_count": null,
            "_view_module": "@jupyter-widgets/base",
            "_view_module_version": "1.2.0",
            "_view_name": "StyleView",
            "description_width": ""
          }
        },
        "407f2e2571e34d01b31839beccfdb1f1": {
          "model_module": "@jupyter-widgets/base",
          "model_name": "LayoutModel",
          "model_module_version": "1.2.0",
          "state": {
            "_model_module": "@jupyter-widgets/base",
            "_model_module_version": "1.2.0",
            "_model_name": "LayoutModel",
            "_view_count": null,
            "_view_module": "@jupyter-widgets/base",
            "_view_module_version": "1.2.0",
            "_view_name": "LayoutView",
            "align_content": null,
            "align_items": null,
            "align_self": null,
            "border": null,
            "bottom": null,
            "display": null,
            "flex": null,
            "flex_flow": null,
            "grid_area": null,
            "grid_auto_columns": null,
            "grid_auto_flow": null,
            "grid_auto_rows": null,
            "grid_column": null,
            "grid_gap": null,
            "grid_row": null,
            "grid_template_areas": null,
            "grid_template_columns": null,
            "grid_template_rows": null,
            "height": null,
            "justify_content": null,
            "justify_items": null,
            "left": null,
            "margin": null,
            "max_height": null,
            "max_width": null,
            "min_height": null,
            "min_width": null,
            "object_fit": null,
            "object_position": null,
            "order": null,
            "overflow": null,
            "overflow_x": null,
            "overflow_y": null,
            "padding": null,
            "right": null,
            "top": null,
            "visibility": null,
            "width": null
          }
        },
        "1ab93b77467c49d5ba080f305eb9fb40": {
          "model_module": "@jupyter-widgets/controls",
          "model_name": "ProgressStyleModel",
          "model_module_version": "1.5.0",
          "state": {
            "_model_module": "@jupyter-widgets/controls",
            "_model_module_version": "1.5.0",
            "_model_name": "ProgressStyleModel",
            "_view_count": null,
            "_view_module": "@jupyter-widgets/base",
            "_view_module_version": "1.2.0",
            "_view_name": "StyleView",
            "bar_color": null,
            "description_width": ""
          }
        },
        "965bcb18490d40938edff3c283332708": {
          "model_module": "@jupyter-widgets/base",
          "model_name": "LayoutModel",
          "model_module_version": "1.2.0",
          "state": {
            "_model_module": "@jupyter-widgets/base",
            "_model_module_version": "1.2.0",
            "_model_name": "LayoutModel",
            "_view_count": null,
            "_view_module": "@jupyter-widgets/base",
            "_view_module_version": "1.2.0",
            "_view_name": "LayoutView",
            "align_content": null,
            "align_items": null,
            "align_self": null,
            "border": null,
            "bottom": null,
            "display": null,
            "flex": null,
            "flex_flow": null,
            "grid_area": null,
            "grid_auto_columns": null,
            "grid_auto_flow": null,
            "grid_auto_rows": null,
            "grid_column": null,
            "grid_gap": null,
            "grid_row": null,
            "grid_template_areas": null,
            "grid_template_columns": null,
            "grid_template_rows": null,
            "height": null,
            "justify_content": null,
            "justify_items": null,
            "left": null,
            "margin": null,
            "max_height": null,
            "max_width": null,
            "min_height": null,
            "min_width": null,
            "object_fit": null,
            "object_position": null,
            "order": null,
            "overflow": null,
            "overflow_x": null,
            "overflow_y": null,
            "padding": null,
            "right": null,
            "top": null,
            "visibility": null,
            "width": null
          }
        },
        "64dd1aa59ff74cf1b7084a02b7db57e8": {
          "model_module": "@jupyter-widgets/controls",
          "model_name": "DescriptionStyleModel",
          "model_module_version": "1.5.0",
          "state": {
            "_model_module": "@jupyter-widgets/controls",
            "_model_module_version": "1.5.0",
            "_model_name": "DescriptionStyleModel",
            "_view_count": null,
            "_view_module": "@jupyter-widgets/base",
            "_view_module_version": "1.2.0",
            "_view_name": "StyleView",
            "description_width": ""
          }
        },
        "a955cfbe728b46648c1db4c92e28abb2": {
          "model_module": "@jupyter-widgets/controls",
          "model_name": "HBoxModel",
          "model_module_version": "1.5.0",
          "state": {
            "_dom_classes": [],
            "_model_module": "@jupyter-widgets/controls",
            "_model_module_version": "1.5.0",
            "_model_name": "HBoxModel",
            "_view_count": null,
            "_view_module": "@jupyter-widgets/controls",
            "_view_module_version": "1.5.0",
            "_view_name": "HBoxView",
            "box_style": "",
            "children": [
              "IPY_MODEL_bc9a08ac89df4699a59bf5f6861adcc9",
              "IPY_MODEL_12acb079876f469d96e135cabce0e94f",
              "IPY_MODEL_3b2c56a515394e95acf051f63d7f362d"
            ],
            "layout": "IPY_MODEL_98731e20dff24862aa474854ced446eb"
          }
        },
        "bc9a08ac89df4699a59bf5f6861adcc9": {
          "model_module": "@jupyter-widgets/controls",
          "model_name": "HTMLModel",
          "model_module_version": "1.5.0",
          "state": {
            "_dom_classes": [],
            "_model_module": "@jupyter-widgets/controls",
            "_model_module_version": "1.5.0",
            "_model_name": "HTMLModel",
            "_view_count": null,
            "_view_module": "@jupyter-widgets/controls",
            "_view_module_version": "1.5.0",
            "_view_name": "HTMLView",
            "description": "",
            "description_tooltip": null,
            "layout": "IPY_MODEL_b1023a185dff4cdbb972ee84c46916dc",
            "placeholder": "​",
            "style": "IPY_MODEL_7a85e8878e5145cfbe08d62d1904144f",
            "value": "training the model at fold2: 100%"
          }
        },
        "12acb079876f469d96e135cabce0e94f": {
          "model_module": "@jupyter-widgets/controls",
          "model_name": "FloatProgressModel",
          "model_module_version": "1.5.0",
          "state": {
            "_dom_classes": [],
            "_model_module": "@jupyter-widgets/controls",
            "_model_module_version": "1.5.0",
            "_model_name": "FloatProgressModel",
            "_view_count": null,
            "_view_module": "@jupyter-widgets/controls",
            "_view_module_version": "1.5.0",
            "_view_name": "ProgressView",
            "bar_style": "success",
            "description": "",
            "description_tooltip": null,
            "layout": "IPY_MODEL_16efef119f8a43d895c57e3bf13db149",
            "max": 300,
            "min": 0,
            "orientation": "horizontal",
            "style": "IPY_MODEL_981bead0ce3b4bd0ae1b660cfd800b23",
            "value": 300
          }
        },
        "3b2c56a515394e95acf051f63d7f362d": {
          "model_module": "@jupyter-widgets/controls",
          "model_name": "HTMLModel",
          "model_module_version": "1.5.0",
          "state": {
            "_dom_classes": [],
            "_model_module": "@jupyter-widgets/controls",
            "_model_module_version": "1.5.0",
            "_model_name": "HTMLModel",
            "_view_count": null,
            "_view_module": "@jupyter-widgets/controls",
            "_view_module_version": "1.5.0",
            "_view_name": "HTMLView",
            "description": "",
            "description_tooltip": null,
            "layout": "IPY_MODEL_da2d12e23f464bc3a8087a426a770f79",
            "placeholder": "​",
            "style": "IPY_MODEL_7fd0ae2e3c2c4200a8c8df117187d51c",
            "value": " 300/300 [00:35&lt;00:00,  6.10it/s]"
          }
        },
        "98731e20dff24862aa474854ced446eb": {
          "model_module": "@jupyter-widgets/base",
          "model_name": "LayoutModel",
          "model_module_version": "1.2.0",
          "state": {
            "_model_module": "@jupyter-widgets/base",
            "_model_module_version": "1.2.0",
            "_model_name": "LayoutModel",
            "_view_count": null,
            "_view_module": "@jupyter-widgets/base",
            "_view_module_version": "1.2.0",
            "_view_name": "LayoutView",
            "align_content": null,
            "align_items": null,
            "align_self": null,
            "border": null,
            "bottom": null,
            "display": null,
            "flex": null,
            "flex_flow": null,
            "grid_area": null,
            "grid_auto_columns": null,
            "grid_auto_flow": null,
            "grid_auto_rows": null,
            "grid_column": null,
            "grid_gap": null,
            "grid_row": null,
            "grid_template_areas": null,
            "grid_template_columns": null,
            "grid_template_rows": null,
            "height": null,
            "justify_content": null,
            "justify_items": null,
            "left": null,
            "margin": null,
            "max_height": null,
            "max_width": null,
            "min_height": null,
            "min_width": null,
            "object_fit": null,
            "object_position": null,
            "order": null,
            "overflow": null,
            "overflow_x": null,
            "overflow_y": null,
            "padding": null,
            "right": null,
            "top": null,
            "visibility": null,
            "width": null
          }
        },
        "b1023a185dff4cdbb972ee84c46916dc": {
          "model_module": "@jupyter-widgets/base",
          "model_name": "LayoutModel",
          "model_module_version": "1.2.0",
          "state": {
            "_model_module": "@jupyter-widgets/base",
            "_model_module_version": "1.2.0",
            "_model_name": "LayoutModel",
            "_view_count": null,
            "_view_module": "@jupyter-widgets/base",
            "_view_module_version": "1.2.0",
            "_view_name": "LayoutView",
            "align_content": null,
            "align_items": null,
            "align_self": null,
            "border": null,
            "bottom": null,
            "display": null,
            "flex": null,
            "flex_flow": null,
            "grid_area": null,
            "grid_auto_columns": null,
            "grid_auto_flow": null,
            "grid_auto_rows": null,
            "grid_column": null,
            "grid_gap": null,
            "grid_row": null,
            "grid_template_areas": null,
            "grid_template_columns": null,
            "grid_template_rows": null,
            "height": null,
            "justify_content": null,
            "justify_items": null,
            "left": null,
            "margin": null,
            "max_height": null,
            "max_width": null,
            "min_height": null,
            "min_width": null,
            "object_fit": null,
            "object_position": null,
            "order": null,
            "overflow": null,
            "overflow_x": null,
            "overflow_y": null,
            "padding": null,
            "right": null,
            "top": null,
            "visibility": null,
            "width": null
          }
        },
        "7a85e8878e5145cfbe08d62d1904144f": {
          "model_module": "@jupyter-widgets/controls",
          "model_name": "DescriptionStyleModel",
          "model_module_version": "1.5.0",
          "state": {
            "_model_module": "@jupyter-widgets/controls",
            "_model_module_version": "1.5.0",
            "_model_name": "DescriptionStyleModel",
            "_view_count": null,
            "_view_module": "@jupyter-widgets/base",
            "_view_module_version": "1.2.0",
            "_view_name": "StyleView",
            "description_width": ""
          }
        },
        "16efef119f8a43d895c57e3bf13db149": {
          "model_module": "@jupyter-widgets/base",
          "model_name": "LayoutModel",
          "model_module_version": "1.2.0",
          "state": {
            "_model_module": "@jupyter-widgets/base",
            "_model_module_version": "1.2.0",
            "_model_name": "LayoutModel",
            "_view_count": null,
            "_view_module": "@jupyter-widgets/base",
            "_view_module_version": "1.2.0",
            "_view_name": "LayoutView",
            "align_content": null,
            "align_items": null,
            "align_self": null,
            "border": null,
            "bottom": null,
            "display": null,
            "flex": null,
            "flex_flow": null,
            "grid_area": null,
            "grid_auto_columns": null,
            "grid_auto_flow": null,
            "grid_auto_rows": null,
            "grid_column": null,
            "grid_gap": null,
            "grid_row": null,
            "grid_template_areas": null,
            "grid_template_columns": null,
            "grid_template_rows": null,
            "height": null,
            "justify_content": null,
            "justify_items": null,
            "left": null,
            "margin": null,
            "max_height": null,
            "max_width": null,
            "min_height": null,
            "min_width": null,
            "object_fit": null,
            "object_position": null,
            "order": null,
            "overflow": null,
            "overflow_x": null,
            "overflow_y": null,
            "padding": null,
            "right": null,
            "top": null,
            "visibility": null,
            "width": null
          }
        },
        "981bead0ce3b4bd0ae1b660cfd800b23": {
          "model_module": "@jupyter-widgets/controls",
          "model_name": "ProgressStyleModel",
          "model_module_version": "1.5.0",
          "state": {
            "_model_module": "@jupyter-widgets/controls",
            "_model_module_version": "1.5.0",
            "_model_name": "ProgressStyleModel",
            "_view_count": null,
            "_view_module": "@jupyter-widgets/base",
            "_view_module_version": "1.2.0",
            "_view_name": "StyleView",
            "bar_color": null,
            "description_width": ""
          }
        },
        "da2d12e23f464bc3a8087a426a770f79": {
          "model_module": "@jupyter-widgets/base",
          "model_name": "LayoutModel",
          "model_module_version": "1.2.0",
          "state": {
            "_model_module": "@jupyter-widgets/base",
            "_model_module_version": "1.2.0",
            "_model_name": "LayoutModel",
            "_view_count": null,
            "_view_module": "@jupyter-widgets/base",
            "_view_module_version": "1.2.0",
            "_view_name": "LayoutView",
            "align_content": null,
            "align_items": null,
            "align_self": null,
            "border": null,
            "bottom": null,
            "display": null,
            "flex": null,
            "flex_flow": null,
            "grid_area": null,
            "grid_auto_columns": null,
            "grid_auto_flow": null,
            "grid_auto_rows": null,
            "grid_column": null,
            "grid_gap": null,
            "grid_row": null,
            "grid_template_areas": null,
            "grid_template_columns": null,
            "grid_template_rows": null,
            "height": null,
            "justify_content": null,
            "justify_items": null,
            "left": null,
            "margin": null,
            "max_height": null,
            "max_width": null,
            "min_height": null,
            "min_width": null,
            "object_fit": null,
            "object_position": null,
            "order": null,
            "overflow": null,
            "overflow_x": null,
            "overflow_y": null,
            "padding": null,
            "right": null,
            "top": null,
            "visibility": null,
            "width": null
          }
        },
        "7fd0ae2e3c2c4200a8c8df117187d51c": {
          "model_module": "@jupyter-widgets/controls",
          "model_name": "DescriptionStyleModel",
          "model_module_version": "1.5.0",
          "state": {
            "_model_module": "@jupyter-widgets/controls",
            "_model_module_version": "1.5.0",
            "_model_name": "DescriptionStyleModel",
            "_view_count": null,
            "_view_module": "@jupyter-widgets/base",
            "_view_module_version": "1.2.0",
            "_view_name": "StyleView",
            "description_width": ""
          }
        },
        "6a6549c7f138467f9786d010730b9894": {
          "model_module": "@jupyter-widgets/controls",
          "model_name": "HBoxModel",
          "model_module_version": "1.5.0",
          "state": {
            "_dom_classes": [],
            "_model_module": "@jupyter-widgets/controls",
            "_model_module_version": "1.5.0",
            "_model_name": "HBoxModel",
            "_view_count": null,
            "_view_module": "@jupyter-widgets/controls",
            "_view_module_version": "1.5.0",
            "_view_name": "HBoxView",
            "box_style": "",
            "children": [
              "IPY_MODEL_91b6e23946b744498b035d71ea52bff6",
              "IPY_MODEL_2b32802fd6f8469ab4e9576bf68cf36e",
              "IPY_MODEL_333827f852f34b169b386469345f1027"
            ],
            "layout": "IPY_MODEL_f8162883cf6a4280abfb4f3a09a92040"
          }
        },
        "91b6e23946b744498b035d71ea52bff6": {
          "model_module": "@jupyter-widgets/controls",
          "model_name": "HTMLModel",
          "model_module_version": "1.5.0",
          "state": {
            "_dom_classes": [],
            "_model_module": "@jupyter-widgets/controls",
            "_model_module_version": "1.5.0",
            "_model_name": "HTMLModel",
            "_view_count": null,
            "_view_module": "@jupyter-widgets/controls",
            "_view_module_version": "1.5.0",
            "_view_name": "HTMLView",
            "description": "",
            "description_tooltip": null,
            "layout": "IPY_MODEL_b6236c1e05d04dc3bf548a9f25d2ec2f",
            "placeholder": "​",
            "style": "IPY_MODEL_bdcc1eec466a4f1ca8118dbda9fc2c35",
            "value": "training the model at fold3: 100%"
          }
        },
        "2b32802fd6f8469ab4e9576bf68cf36e": {
          "model_module": "@jupyter-widgets/controls",
          "model_name": "FloatProgressModel",
          "model_module_version": "1.5.0",
          "state": {
            "_dom_classes": [],
            "_model_module": "@jupyter-widgets/controls",
            "_model_module_version": "1.5.0",
            "_model_name": "FloatProgressModel",
            "_view_count": null,
            "_view_module": "@jupyter-widgets/controls",
            "_view_module_version": "1.5.0",
            "_view_name": "ProgressView",
            "bar_style": "success",
            "description": "",
            "description_tooltip": null,
            "layout": "IPY_MODEL_ec9a66754e3c4be2b1f8e7610dffc3ac",
            "max": 300,
            "min": 0,
            "orientation": "horizontal",
            "style": "IPY_MODEL_e27ec6ee1f9945ddadbf9545a766e353",
            "value": 300
          }
        },
        "333827f852f34b169b386469345f1027": {
          "model_module": "@jupyter-widgets/controls",
          "model_name": "HTMLModel",
          "model_module_version": "1.5.0",
          "state": {
            "_dom_classes": [],
            "_model_module": "@jupyter-widgets/controls",
            "_model_module_version": "1.5.0",
            "_model_name": "HTMLModel",
            "_view_count": null,
            "_view_module": "@jupyter-widgets/controls",
            "_view_module_version": "1.5.0",
            "_view_name": "HTMLView",
            "description": "",
            "description_tooltip": null,
            "layout": "IPY_MODEL_e0574d12528a459682e34e2645fc22dd",
            "placeholder": "​",
            "style": "IPY_MODEL_d9c1c3e499544e5eb34e52aa2f8f896d",
            "value": " 300/300 [00:37&lt;00:00,  9.41it/s]"
          }
        },
        "f8162883cf6a4280abfb4f3a09a92040": {
          "model_module": "@jupyter-widgets/base",
          "model_name": "LayoutModel",
          "model_module_version": "1.2.0",
          "state": {
            "_model_module": "@jupyter-widgets/base",
            "_model_module_version": "1.2.0",
            "_model_name": "LayoutModel",
            "_view_count": null,
            "_view_module": "@jupyter-widgets/base",
            "_view_module_version": "1.2.0",
            "_view_name": "LayoutView",
            "align_content": null,
            "align_items": null,
            "align_self": null,
            "border": null,
            "bottom": null,
            "display": null,
            "flex": null,
            "flex_flow": null,
            "grid_area": null,
            "grid_auto_columns": null,
            "grid_auto_flow": null,
            "grid_auto_rows": null,
            "grid_column": null,
            "grid_gap": null,
            "grid_row": null,
            "grid_template_areas": null,
            "grid_template_columns": null,
            "grid_template_rows": null,
            "height": null,
            "justify_content": null,
            "justify_items": null,
            "left": null,
            "margin": null,
            "max_height": null,
            "max_width": null,
            "min_height": null,
            "min_width": null,
            "object_fit": null,
            "object_position": null,
            "order": null,
            "overflow": null,
            "overflow_x": null,
            "overflow_y": null,
            "padding": null,
            "right": null,
            "top": null,
            "visibility": null,
            "width": null
          }
        },
        "b6236c1e05d04dc3bf548a9f25d2ec2f": {
          "model_module": "@jupyter-widgets/base",
          "model_name": "LayoutModel",
          "model_module_version": "1.2.0",
          "state": {
            "_model_module": "@jupyter-widgets/base",
            "_model_module_version": "1.2.0",
            "_model_name": "LayoutModel",
            "_view_count": null,
            "_view_module": "@jupyter-widgets/base",
            "_view_module_version": "1.2.0",
            "_view_name": "LayoutView",
            "align_content": null,
            "align_items": null,
            "align_self": null,
            "border": null,
            "bottom": null,
            "display": null,
            "flex": null,
            "flex_flow": null,
            "grid_area": null,
            "grid_auto_columns": null,
            "grid_auto_flow": null,
            "grid_auto_rows": null,
            "grid_column": null,
            "grid_gap": null,
            "grid_row": null,
            "grid_template_areas": null,
            "grid_template_columns": null,
            "grid_template_rows": null,
            "height": null,
            "justify_content": null,
            "justify_items": null,
            "left": null,
            "margin": null,
            "max_height": null,
            "max_width": null,
            "min_height": null,
            "min_width": null,
            "object_fit": null,
            "object_position": null,
            "order": null,
            "overflow": null,
            "overflow_x": null,
            "overflow_y": null,
            "padding": null,
            "right": null,
            "top": null,
            "visibility": null,
            "width": null
          }
        },
        "bdcc1eec466a4f1ca8118dbda9fc2c35": {
          "model_module": "@jupyter-widgets/controls",
          "model_name": "DescriptionStyleModel",
          "model_module_version": "1.5.0",
          "state": {
            "_model_module": "@jupyter-widgets/controls",
            "_model_module_version": "1.5.0",
            "_model_name": "DescriptionStyleModel",
            "_view_count": null,
            "_view_module": "@jupyter-widgets/base",
            "_view_module_version": "1.2.0",
            "_view_name": "StyleView",
            "description_width": ""
          }
        },
        "ec9a66754e3c4be2b1f8e7610dffc3ac": {
          "model_module": "@jupyter-widgets/base",
          "model_name": "LayoutModel",
          "model_module_version": "1.2.0",
          "state": {
            "_model_module": "@jupyter-widgets/base",
            "_model_module_version": "1.2.0",
            "_model_name": "LayoutModel",
            "_view_count": null,
            "_view_module": "@jupyter-widgets/base",
            "_view_module_version": "1.2.0",
            "_view_name": "LayoutView",
            "align_content": null,
            "align_items": null,
            "align_self": null,
            "border": null,
            "bottom": null,
            "display": null,
            "flex": null,
            "flex_flow": null,
            "grid_area": null,
            "grid_auto_columns": null,
            "grid_auto_flow": null,
            "grid_auto_rows": null,
            "grid_column": null,
            "grid_gap": null,
            "grid_row": null,
            "grid_template_areas": null,
            "grid_template_columns": null,
            "grid_template_rows": null,
            "height": null,
            "justify_content": null,
            "justify_items": null,
            "left": null,
            "margin": null,
            "max_height": null,
            "max_width": null,
            "min_height": null,
            "min_width": null,
            "object_fit": null,
            "object_position": null,
            "order": null,
            "overflow": null,
            "overflow_x": null,
            "overflow_y": null,
            "padding": null,
            "right": null,
            "top": null,
            "visibility": null,
            "width": null
          }
        },
        "e27ec6ee1f9945ddadbf9545a766e353": {
          "model_module": "@jupyter-widgets/controls",
          "model_name": "ProgressStyleModel",
          "model_module_version": "1.5.0",
          "state": {
            "_model_module": "@jupyter-widgets/controls",
            "_model_module_version": "1.5.0",
            "_model_name": "ProgressStyleModel",
            "_view_count": null,
            "_view_module": "@jupyter-widgets/base",
            "_view_module_version": "1.2.0",
            "_view_name": "StyleView",
            "bar_color": null,
            "description_width": ""
          }
        },
        "e0574d12528a459682e34e2645fc22dd": {
          "model_module": "@jupyter-widgets/base",
          "model_name": "LayoutModel",
          "model_module_version": "1.2.0",
          "state": {
            "_model_module": "@jupyter-widgets/base",
            "_model_module_version": "1.2.0",
            "_model_name": "LayoutModel",
            "_view_count": null,
            "_view_module": "@jupyter-widgets/base",
            "_view_module_version": "1.2.0",
            "_view_name": "LayoutView",
            "align_content": null,
            "align_items": null,
            "align_self": null,
            "border": null,
            "bottom": null,
            "display": null,
            "flex": null,
            "flex_flow": null,
            "grid_area": null,
            "grid_auto_columns": null,
            "grid_auto_flow": null,
            "grid_auto_rows": null,
            "grid_column": null,
            "grid_gap": null,
            "grid_row": null,
            "grid_template_areas": null,
            "grid_template_columns": null,
            "grid_template_rows": null,
            "height": null,
            "justify_content": null,
            "justify_items": null,
            "left": null,
            "margin": null,
            "max_height": null,
            "max_width": null,
            "min_height": null,
            "min_width": null,
            "object_fit": null,
            "object_position": null,
            "order": null,
            "overflow": null,
            "overflow_x": null,
            "overflow_y": null,
            "padding": null,
            "right": null,
            "top": null,
            "visibility": null,
            "width": null
          }
        },
        "d9c1c3e499544e5eb34e52aa2f8f896d": {
          "model_module": "@jupyter-widgets/controls",
          "model_name": "DescriptionStyleModel",
          "model_module_version": "1.5.0",
          "state": {
            "_model_module": "@jupyter-widgets/controls",
            "_model_module_version": "1.5.0",
            "_model_name": "DescriptionStyleModel",
            "_view_count": null,
            "_view_module": "@jupyter-widgets/base",
            "_view_module_version": "1.2.0",
            "_view_name": "StyleView",
            "description_width": ""
          }
        },
        "30e80ac328b445f8979d2f89cbb89e13": {
          "model_module": "@jupyter-widgets/controls",
          "model_name": "HBoxModel",
          "model_module_version": "1.5.0",
          "state": {
            "_dom_classes": [],
            "_model_module": "@jupyter-widgets/controls",
            "_model_module_version": "1.5.0",
            "_model_name": "HBoxModel",
            "_view_count": null,
            "_view_module": "@jupyter-widgets/controls",
            "_view_module_version": "1.5.0",
            "_view_name": "HBoxView",
            "box_style": "",
            "children": [
              "IPY_MODEL_1b8d23537e1242988381454a5cd372cc",
              "IPY_MODEL_cd06c432ede14bf280a09ceaa9d26904",
              "IPY_MODEL_2133907173d8411fb5df27600ff5e037"
            ],
            "layout": "IPY_MODEL_0682c848652b4e2d980c64ae1e0995d3"
          }
        },
        "1b8d23537e1242988381454a5cd372cc": {
          "model_module": "@jupyter-widgets/controls",
          "model_name": "HTMLModel",
          "model_module_version": "1.5.0",
          "state": {
            "_dom_classes": [],
            "_model_module": "@jupyter-widgets/controls",
            "_model_module_version": "1.5.0",
            "_model_name": "HTMLModel",
            "_view_count": null,
            "_view_module": "@jupyter-widgets/controls",
            "_view_module_version": "1.5.0",
            "_view_name": "HTMLView",
            "description": "",
            "description_tooltip": null,
            "layout": "IPY_MODEL_10675a9bfeb84f1a8a1a9a06f2ee7d0d",
            "placeholder": "​",
            "style": "IPY_MODEL_ebc5f71a532440b68cc904c9b62f1c42",
            "value": "training the model at fold4: 100%"
          }
        },
        "cd06c432ede14bf280a09ceaa9d26904": {
          "model_module": "@jupyter-widgets/controls",
          "model_name": "FloatProgressModel",
          "model_module_version": "1.5.0",
          "state": {
            "_dom_classes": [],
            "_model_module": "@jupyter-widgets/controls",
            "_model_module_version": "1.5.0",
            "_model_name": "FloatProgressModel",
            "_view_count": null,
            "_view_module": "@jupyter-widgets/controls",
            "_view_module_version": "1.5.0",
            "_view_name": "ProgressView",
            "bar_style": "success",
            "description": "",
            "description_tooltip": null,
            "layout": "IPY_MODEL_7108c40894fc4555838921f581be5167",
            "max": 300,
            "min": 0,
            "orientation": "horizontal",
            "style": "IPY_MODEL_f913aa439be3453da9a5c6840c0a1335",
            "value": 300
          }
        },
        "2133907173d8411fb5df27600ff5e037": {
          "model_module": "@jupyter-widgets/controls",
          "model_name": "HTMLModel",
          "model_module_version": "1.5.0",
          "state": {
            "_dom_classes": [],
            "_model_module": "@jupyter-widgets/controls",
            "_model_module_version": "1.5.0",
            "_model_name": "HTMLModel",
            "_view_count": null,
            "_view_module": "@jupyter-widgets/controls",
            "_view_module_version": "1.5.0",
            "_view_name": "HTMLView",
            "description": "",
            "description_tooltip": null,
            "layout": "IPY_MODEL_b79a1e05b4bc4df89dc5b3c2746fb9b9",
            "placeholder": "​",
            "style": "IPY_MODEL_aa936500ae89415eb2ee9e8cee7f7e9e",
            "value": " 300/300 [00:36&lt;00:00,  9.39it/s]"
          }
        },
        "0682c848652b4e2d980c64ae1e0995d3": {
          "model_module": "@jupyter-widgets/base",
          "model_name": "LayoutModel",
          "model_module_version": "1.2.0",
          "state": {
            "_model_module": "@jupyter-widgets/base",
            "_model_module_version": "1.2.0",
            "_model_name": "LayoutModel",
            "_view_count": null,
            "_view_module": "@jupyter-widgets/base",
            "_view_module_version": "1.2.0",
            "_view_name": "LayoutView",
            "align_content": null,
            "align_items": null,
            "align_self": null,
            "border": null,
            "bottom": null,
            "display": null,
            "flex": null,
            "flex_flow": null,
            "grid_area": null,
            "grid_auto_columns": null,
            "grid_auto_flow": null,
            "grid_auto_rows": null,
            "grid_column": null,
            "grid_gap": null,
            "grid_row": null,
            "grid_template_areas": null,
            "grid_template_columns": null,
            "grid_template_rows": null,
            "height": null,
            "justify_content": null,
            "justify_items": null,
            "left": null,
            "margin": null,
            "max_height": null,
            "max_width": null,
            "min_height": null,
            "min_width": null,
            "object_fit": null,
            "object_position": null,
            "order": null,
            "overflow": null,
            "overflow_x": null,
            "overflow_y": null,
            "padding": null,
            "right": null,
            "top": null,
            "visibility": null,
            "width": null
          }
        },
        "10675a9bfeb84f1a8a1a9a06f2ee7d0d": {
          "model_module": "@jupyter-widgets/base",
          "model_name": "LayoutModel",
          "model_module_version": "1.2.0",
          "state": {
            "_model_module": "@jupyter-widgets/base",
            "_model_module_version": "1.2.0",
            "_model_name": "LayoutModel",
            "_view_count": null,
            "_view_module": "@jupyter-widgets/base",
            "_view_module_version": "1.2.0",
            "_view_name": "LayoutView",
            "align_content": null,
            "align_items": null,
            "align_self": null,
            "border": null,
            "bottom": null,
            "display": null,
            "flex": null,
            "flex_flow": null,
            "grid_area": null,
            "grid_auto_columns": null,
            "grid_auto_flow": null,
            "grid_auto_rows": null,
            "grid_column": null,
            "grid_gap": null,
            "grid_row": null,
            "grid_template_areas": null,
            "grid_template_columns": null,
            "grid_template_rows": null,
            "height": null,
            "justify_content": null,
            "justify_items": null,
            "left": null,
            "margin": null,
            "max_height": null,
            "max_width": null,
            "min_height": null,
            "min_width": null,
            "object_fit": null,
            "object_position": null,
            "order": null,
            "overflow": null,
            "overflow_x": null,
            "overflow_y": null,
            "padding": null,
            "right": null,
            "top": null,
            "visibility": null,
            "width": null
          }
        },
        "ebc5f71a532440b68cc904c9b62f1c42": {
          "model_module": "@jupyter-widgets/controls",
          "model_name": "DescriptionStyleModel",
          "model_module_version": "1.5.0",
          "state": {
            "_model_module": "@jupyter-widgets/controls",
            "_model_module_version": "1.5.0",
            "_model_name": "DescriptionStyleModel",
            "_view_count": null,
            "_view_module": "@jupyter-widgets/base",
            "_view_module_version": "1.2.0",
            "_view_name": "StyleView",
            "description_width": ""
          }
        },
        "7108c40894fc4555838921f581be5167": {
          "model_module": "@jupyter-widgets/base",
          "model_name": "LayoutModel",
          "model_module_version": "1.2.0",
          "state": {
            "_model_module": "@jupyter-widgets/base",
            "_model_module_version": "1.2.0",
            "_model_name": "LayoutModel",
            "_view_count": null,
            "_view_module": "@jupyter-widgets/base",
            "_view_module_version": "1.2.0",
            "_view_name": "LayoutView",
            "align_content": null,
            "align_items": null,
            "align_self": null,
            "border": null,
            "bottom": null,
            "display": null,
            "flex": null,
            "flex_flow": null,
            "grid_area": null,
            "grid_auto_columns": null,
            "grid_auto_flow": null,
            "grid_auto_rows": null,
            "grid_column": null,
            "grid_gap": null,
            "grid_row": null,
            "grid_template_areas": null,
            "grid_template_columns": null,
            "grid_template_rows": null,
            "height": null,
            "justify_content": null,
            "justify_items": null,
            "left": null,
            "margin": null,
            "max_height": null,
            "max_width": null,
            "min_height": null,
            "min_width": null,
            "object_fit": null,
            "object_position": null,
            "order": null,
            "overflow": null,
            "overflow_x": null,
            "overflow_y": null,
            "padding": null,
            "right": null,
            "top": null,
            "visibility": null,
            "width": null
          }
        },
        "f913aa439be3453da9a5c6840c0a1335": {
          "model_module": "@jupyter-widgets/controls",
          "model_name": "ProgressStyleModel",
          "model_module_version": "1.5.0",
          "state": {
            "_model_module": "@jupyter-widgets/controls",
            "_model_module_version": "1.5.0",
            "_model_name": "ProgressStyleModel",
            "_view_count": null,
            "_view_module": "@jupyter-widgets/base",
            "_view_module_version": "1.2.0",
            "_view_name": "StyleView",
            "bar_color": null,
            "description_width": ""
          }
        },
        "b79a1e05b4bc4df89dc5b3c2746fb9b9": {
          "model_module": "@jupyter-widgets/base",
          "model_name": "LayoutModel",
          "model_module_version": "1.2.0",
          "state": {
            "_model_module": "@jupyter-widgets/base",
            "_model_module_version": "1.2.0",
            "_model_name": "LayoutModel",
            "_view_count": null,
            "_view_module": "@jupyter-widgets/base",
            "_view_module_version": "1.2.0",
            "_view_name": "LayoutView",
            "align_content": null,
            "align_items": null,
            "align_self": null,
            "border": null,
            "bottom": null,
            "display": null,
            "flex": null,
            "flex_flow": null,
            "grid_area": null,
            "grid_auto_columns": null,
            "grid_auto_flow": null,
            "grid_auto_rows": null,
            "grid_column": null,
            "grid_gap": null,
            "grid_row": null,
            "grid_template_areas": null,
            "grid_template_columns": null,
            "grid_template_rows": null,
            "height": null,
            "justify_content": null,
            "justify_items": null,
            "left": null,
            "margin": null,
            "max_height": null,
            "max_width": null,
            "min_height": null,
            "min_width": null,
            "object_fit": null,
            "object_position": null,
            "order": null,
            "overflow": null,
            "overflow_x": null,
            "overflow_y": null,
            "padding": null,
            "right": null,
            "top": null,
            "visibility": null,
            "width": null
          }
        },
        "aa936500ae89415eb2ee9e8cee7f7e9e": {
          "model_module": "@jupyter-widgets/controls",
          "model_name": "DescriptionStyleModel",
          "model_module_version": "1.5.0",
          "state": {
            "_model_module": "@jupyter-widgets/controls",
            "_model_module_version": "1.5.0",
            "_model_name": "DescriptionStyleModel",
            "_view_count": null,
            "_view_module": "@jupyter-widgets/base",
            "_view_module_version": "1.2.0",
            "_view_name": "StyleView",
            "description_width": ""
          }
        },
        "bd79bb1b7dba43eb89515c35461f97f4": {
          "model_module": "@jupyter-widgets/controls",
          "model_name": "HBoxModel",
          "model_module_version": "1.5.0",
          "state": {
            "_dom_classes": [],
            "_model_module": "@jupyter-widgets/controls",
            "_model_module_version": "1.5.0",
            "_model_name": "HBoxModel",
            "_view_count": null,
            "_view_module": "@jupyter-widgets/controls",
            "_view_module_version": "1.5.0",
            "_view_name": "HBoxView",
            "box_style": "",
            "children": [
              "IPY_MODEL_ce783763813545d48edaba2230dc9fa1",
              "IPY_MODEL_617d5b402c524da7a77efd0809aced90",
              "IPY_MODEL_52c94638d4014abab054940929c09898"
            ],
            "layout": "IPY_MODEL_9bba8b88c41f4b34a0fbe97954080952"
          }
        },
        "ce783763813545d48edaba2230dc9fa1": {
          "model_module": "@jupyter-widgets/controls",
          "model_name": "HTMLModel",
          "model_module_version": "1.5.0",
          "state": {
            "_dom_classes": [],
            "_model_module": "@jupyter-widgets/controls",
            "_model_module_version": "1.5.0",
            "_model_name": "HTMLModel",
            "_view_count": null,
            "_view_module": "@jupyter-widgets/controls",
            "_view_module_version": "1.5.0",
            "_view_name": "HTMLView",
            "description": "",
            "description_tooltip": null,
            "layout": "IPY_MODEL_a7160c78a56447babe0d75ffd4cbf090",
            "placeholder": "​",
            "style": "IPY_MODEL_1dfa8ab5d25e43e886ceb408fc76b7e4",
            "value": "training the model at fold5: 100%"
          }
        },
        "617d5b402c524da7a77efd0809aced90": {
          "model_module": "@jupyter-widgets/controls",
          "model_name": "FloatProgressModel",
          "model_module_version": "1.5.0",
          "state": {
            "_dom_classes": [],
            "_model_module": "@jupyter-widgets/controls",
            "_model_module_version": "1.5.0",
            "_model_name": "FloatProgressModel",
            "_view_count": null,
            "_view_module": "@jupyter-widgets/controls",
            "_view_module_version": "1.5.0",
            "_view_name": "ProgressView",
            "bar_style": "success",
            "description": "",
            "description_tooltip": null,
            "layout": "IPY_MODEL_e95231967e1b483baf2b00e0cf41f9ed",
            "max": 300,
            "min": 0,
            "orientation": "horizontal",
            "style": "IPY_MODEL_9ac34e42849342bc83f65cf926b19116",
            "value": 300
          }
        },
        "52c94638d4014abab054940929c09898": {
          "model_module": "@jupyter-widgets/controls",
          "model_name": "HTMLModel",
          "model_module_version": "1.5.0",
          "state": {
            "_dom_classes": [],
            "_model_module": "@jupyter-widgets/controls",
            "_model_module_version": "1.5.0",
            "_model_name": "HTMLModel",
            "_view_count": null,
            "_view_module": "@jupyter-widgets/controls",
            "_view_module_version": "1.5.0",
            "_view_name": "HTMLView",
            "description": "",
            "description_tooltip": null,
            "layout": "IPY_MODEL_ef5814f8d76c4b33a579432158c5c7af",
            "placeholder": "​",
            "style": "IPY_MODEL_1294e12c44d94de9b62227be95e25916",
            "value": " 300/300 [00:35&lt;00:00,  5.53it/s]"
          }
        },
        "9bba8b88c41f4b34a0fbe97954080952": {
          "model_module": "@jupyter-widgets/base",
          "model_name": "LayoutModel",
          "model_module_version": "1.2.0",
          "state": {
            "_model_module": "@jupyter-widgets/base",
            "_model_module_version": "1.2.0",
            "_model_name": "LayoutModel",
            "_view_count": null,
            "_view_module": "@jupyter-widgets/base",
            "_view_module_version": "1.2.0",
            "_view_name": "LayoutView",
            "align_content": null,
            "align_items": null,
            "align_self": null,
            "border": null,
            "bottom": null,
            "display": null,
            "flex": null,
            "flex_flow": null,
            "grid_area": null,
            "grid_auto_columns": null,
            "grid_auto_flow": null,
            "grid_auto_rows": null,
            "grid_column": null,
            "grid_gap": null,
            "grid_row": null,
            "grid_template_areas": null,
            "grid_template_columns": null,
            "grid_template_rows": null,
            "height": null,
            "justify_content": null,
            "justify_items": null,
            "left": null,
            "margin": null,
            "max_height": null,
            "max_width": null,
            "min_height": null,
            "min_width": null,
            "object_fit": null,
            "object_position": null,
            "order": null,
            "overflow": null,
            "overflow_x": null,
            "overflow_y": null,
            "padding": null,
            "right": null,
            "top": null,
            "visibility": null,
            "width": null
          }
        },
        "a7160c78a56447babe0d75ffd4cbf090": {
          "model_module": "@jupyter-widgets/base",
          "model_name": "LayoutModel",
          "model_module_version": "1.2.0",
          "state": {
            "_model_module": "@jupyter-widgets/base",
            "_model_module_version": "1.2.0",
            "_model_name": "LayoutModel",
            "_view_count": null,
            "_view_module": "@jupyter-widgets/base",
            "_view_module_version": "1.2.0",
            "_view_name": "LayoutView",
            "align_content": null,
            "align_items": null,
            "align_self": null,
            "border": null,
            "bottom": null,
            "display": null,
            "flex": null,
            "flex_flow": null,
            "grid_area": null,
            "grid_auto_columns": null,
            "grid_auto_flow": null,
            "grid_auto_rows": null,
            "grid_column": null,
            "grid_gap": null,
            "grid_row": null,
            "grid_template_areas": null,
            "grid_template_columns": null,
            "grid_template_rows": null,
            "height": null,
            "justify_content": null,
            "justify_items": null,
            "left": null,
            "margin": null,
            "max_height": null,
            "max_width": null,
            "min_height": null,
            "min_width": null,
            "object_fit": null,
            "object_position": null,
            "order": null,
            "overflow": null,
            "overflow_x": null,
            "overflow_y": null,
            "padding": null,
            "right": null,
            "top": null,
            "visibility": null,
            "width": null
          }
        },
        "1dfa8ab5d25e43e886ceb408fc76b7e4": {
          "model_module": "@jupyter-widgets/controls",
          "model_name": "DescriptionStyleModel",
          "model_module_version": "1.5.0",
          "state": {
            "_model_module": "@jupyter-widgets/controls",
            "_model_module_version": "1.5.0",
            "_model_name": "DescriptionStyleModel",
            "_view_count": null,
            "_view_module": "@jupyter-widgets/base",
            "_view_module_version": "1.2.0",
            "_view_name": "StyleView",
            "description_width": ""
          }
        },
        "e95231967e1b483baf2b00e0cf41f9ed": {
          "model_module": "@jupyter-widgets/base",
          "model_name": "LayoutModel",
          "model_module_version": "1.2.0",
          "state": {
            "_model_module": "@jupyter-widgets/base",
            "_model_module_version": "1.2.0",
            "_model_name": "LayoutModel",
            "_view_count": null,
            "_view_module": "@jupyter-widgets/base",
            "_view_module_version": "1.2.0",
            "_view_name": "LayoutView",
            "align_content": null,
            "align_items": null,
            "align_self": null,
            "border": null,
            "bottom": null,
            "display": null,
            "flex": null,
            "flex_flow": null,
            "grid_area": null,
            "grid_auto_columns": null,
            "grid_auto_flow": null,
            "grid_auto_rows": null,
            "grid_column": null,
            "grid_gap": null,
            "grid_row": null,
            "grid_template_areas": null,
            "grid_template_columns": null,
            "grid_template_rows": null,
            "height": null,
            "justify_content": null,
            "justify_items": null,
            "left": null,
            "margin": null,
            "max_height": null,
            "max_width": null,
            "min_height": null,
            "min_width": null,
            "object_fit": null,
            "object_position": null,
            "order": null,
            "overflow": null,
            "overflow_x": null,
            "overflow_y": null,
            "padding": null,
            "right": null,
            "top": null,
            "visibility": null,
            "width": null
          }
        },
        "9ac34e42849342bc83f65cf926b19116": {
          "model_module": "@jupyter-widgets/controls",
          "model_name": "ProgressStyleModel",
          "model_module_version": "1.5.0",
          "state": {
            "_model_module": "@jupyter-widgets/controls",
            "_model_module_version": "1.5.0",
            "_model_name": "ProgressStyleModel",
            "_view_count": null,
            "_view_module": "@jupyter-widgets/base",
            "_view_module_version": "1.2.0",
            "_view_name": "StyleView",
            "bar_color": null,
            "description_width": ""
          }
        },
        "ef5814f8d76c4b33a579432158c5c7af": {
          "model_module": "@jupyter-widgets/base",
          "model_name": "LayoutModel",
          "model_module_version": "1.2.0",
          "state": {
            "_model_module": "@jupyter-widgets/base",
            "_model_module_version": "1.2.0",
            "_model_name": "LayoutModel",
            "_view_count": null,
            "_view_module": "@jupyter-widgets/base",
            "_view_module_version": "1.2.0",
            "_view_name": "LayoutView",
            "align_content": null,
            "align_items": null,
            "align_self": null,
            "border": null,
            "bottom": null,
            "display": null,
            "flex": null,
            "flex_flow": null,
            "grid_area": null,
            "grid_auto_columns": null,
            "grid_auto_flow": null,
            "grid_auto_rows": null,
            "grid_column": null,
            "grid_gap": null,
            "grid_row": null,
            "grid_template_areas": null,
            "grid_template_columns": null,
            "grid_template_rows": null,
            "height": null,
            "justify_content": null,
            "justify_items": null,
            "left": null,
            "margin": null,
            "max_height": null,
            "max_width": null,
            "min_height": null,
            "min_width": null,
            "object_fit": null,
            "object_position": null,
            "order": null,
            "overflow": null,
            "overflow_x": null,
            "overflow_y": null,
            "padding": null,
            "right": null,
            "top": null,
            "visibility": null,
            "width": null
          }
        },
        "1294e12c44d94de9b62227be95e25916": {
          "model_module": "@jupyter-widgets/controls",
          "model_name": "DescriptionStyleModel",
          "model_module_version": "1.5.0",
          "state": {
            "_model_module": "@jupyter-widgets/controls",
            "_model_module_version": "1.5.0",
            "_model_name": "DescriptionStyleModel",
            "_view_count": null,
            "_view_module": "@jupyter-widgets/base",
            "_view_module_version": "1.2.0",
            "_view_name": "StyleView",
            "description_width": ""
          }
        }
      }
    }
  },
  "cells": [
    {
      "cell_type": "markdown",
      "source": [
        "# Pima Indians Diabetes Database\n",
        "\n",
        "## Sources:\n",
        "- Original owners: `National Institute of Diabetes and Digestive and Kidney Diseases`\n",
        "- Donor of database: `Research Center, RMI Group Leader Applied Physics Laboratory, The Johns Hopkins University`\n",
        "- Number of Instances: 768\n",
        "- Number of Attributes: 8 plus class\n",
        "- For Each Attribute: (all numeric-valued)\n",
        "   1. Number of times pregnant\n",
        "   2. Plasma glucose concentration a 2 hours in an oral glucose tolerance test\n",
        "   3. Diastolic blood pressure (mm Hg)\n",
        "   4. Triceps skin fold thickness (mm)\n",
        "   5. 2-Hour serum insulin (mu U/ml)\n",
        "   6. Body mass index (weight in kg/(height in m)^2)\n",
        "   7. Diabetes pedigree function\n",
        "   8. Age (years)\n",
        "   9. Class variable (0 or 1)\n",
        "- Missing Attribute Values: Yes\n",
        "- Class Distribution:\n",
        "  * **Positive Tested** Class value = 1\n",
        "  * **Negative Tested** Class value = 0\n",
        "- Class Value  Number of instances\n",
        "  * Class 0: 500\n",
        "  * Class 1: 268"
      ],
      "metadata": {
        "id": "0yS9XmwcqKtq"
      }
    },
    {
      "cell_type": "markdown",
      "source": [
        "## Import neccessary libraries\n"
      ],
      "metadata": {
        "id": "xCkt8mpXuV7s"
      }
    },
    {
      "cell_type": "code",
      "source": [
        "!pip -q install timm\n",
        "!pip -q install transformers\n",
        "!pip -q install evaluate\n",
        "!pip -q install lion-pytorch\n",
        "!pip -q install torchmetrics\n",
        "!pip -q install torchsummary"
      ],
      "metadata": {
        "id": "GpXZOz6860r_",
        "colab": {
          "base_uri": "https://localhost:8080/"
        },
        "outputId": "f5d0beaf-f9ec-4adc-91ae-1ab26eb1cabd"
      },
      "execution_count": null,
      "outputs": [
        {
          "output_type": "stream",
          "name": "stdout",
          "text": [
            "\u001b[?25l     \u001b[90m━━━━━━━━━━━━━━━━━━━━━━━━━━━━━━━━━━━━━━━━\u001b[0m \u001b[32m0.0/2.2 MB\u001b[0m \u001b[31m?\u001b[0m eta \u001b[36m-:--:--\u001b[0m\r\u001b[2K     \u001b[91m━━━\u001b[0m\u001b[91m╸\u001b[0m\u001b[90m━━━━━━━━━━━━━━━━━━━━━━━━━━━━━━━━━━━━\u001b[0m \u001b[32m0.2/2.2 MB\u001b[0m \u001b[31m6.2 MB/s\u001b[0m eta \u001b[36m0:00:01\u001b[0m\r\u001b[2K     \u001b[91m━━━━━━━━━━━━━━━━━━━━━━━━━━━━━━━━━━━━━\u001b[0m\u001b[90m╺\u001b[0m\u001b[90m━━\u001b[0m \u001b[32m2.1/2.2 MB\u001b[0m \u001b[31m30.1 MB/s\u001b[0m eta \u001b[36m0:00:01\u001b[0m\r\u001b[2K     \u001b[90m━━━━━━━━━━━━━━━━━━━━━━━━━━━━━━━━━━━━━━━━\u001b[0m \u001b[32m2.2/2.2 MB\u001b[0m \u001b[31m26.4 MB/s\u001b[0m eta \u001b[36m0:00:00\u001b[0m\n",
            "\u001b[2K     \u001b[90m━━━━━━━━━━━━━━━━━━━━━━━━━━━━━━━━━━━━━━\u001b[0m \u001b[32m268.8/268.8 kB\u001b[0m \u001b[31m25.8 MB/s\u001b[0m eta \u001b[36m0:00:00\u001b[0m\n",
            "\u001b[2K     \u001b[90m━━━━━━━━━━━━━━━━━━━━━━━━━━━━━━━━━━━━━━━━\u001b[0m \u001b[32m1.3/1.3 MB\u001b[0m \u001b[31m88.0 MB/s\u001b[0m eta \u001b[36m0:00:00\u001b[0m\n",
            "\u001b[2K     \u001b[90m━━━━━━━━━━━━━━━━━━━━━━━━━━━━━━━━━━━━━━━━\u001b[0m \u001b[32m7.6/7.6 MB\u001b[0m \u001b[31m60.0 MB/s\u001b[0m eta \u001b[36m0:00:00\u001b[0m\n",
            "\u001b[2K     \u001b[90m━━━━━━━━━━━━━━━━━━━━━━━━━━━━━━━━━━━━━━━━\u001b[0m \u001b[32m7.8/7.8 MB\u001b[0m \u001b[31m119.2 MB/s\u001b[0m eta \u001b[36m0:00:00\u001b[0m\n",
            "\u001b[2K     \u001b[90m━━━━━━━━━━━━━━━━━━━━━━━━━━━━━━━━━━━━━━━━\u001b[0m \u001b[32m81.4/81.4 kB\u001b[0m \u001b[31m2.4 MB/s\u001b[0m eta \u001b[36m0:00:00\u001b[0m\n",
            "\u001b[2K     \u001b[90m━━━━━━━━━━━━━━━━━━━━━━━━━━━━━━━━━━━━━━\u001b[0m \u001b[32m519.6/519.6 kB\u001b[0m \u001b[31m14.0 MB/s\u001b[0m eta \u001b[36m0:00:00\u001b[0m\n",
            "\u001b[2K     \u001b[90m━━━━━━━━━━━━━━━━━━━━━━━━━━━━━━━━━━━━━━\u001b[0m \u001b[32m115.3/115.3 kB\u001b[0m \u001b[31m13.8 MB/s\u001b[0m eta \u001b[36m0:00:00\u001b[0m\n",
            "\u001b[2K     \u001b[90m━━━━━━━━━━━━━━━━━━━━━━━━━━━━━━━━━━━━━━\u001b[0m \u001b[32m194.1/194.1 kB\u001b[0m \u001b[31m23.7 MB/s\u001b[0m eta \u001b[36m0:00:00\u001b[0m\n",
            "\u001b[2K     \u001b[90m━━━━━━━━━━━━━━━━━━━━━━━━━━━━━━━━━━━━━━\u001b[0m \u001b[32m134.8/134.8 kB\u001b[0m \u001b[31m15.1 MB/s\u001b[0m eta \u001b[36m0:00:00\u001b[0m\n",
            "\u001b[2K     \u001b[90m━━━━━━━━━━━━━━━━━━━━━━━━━━━━━━━━━━━━━━\u001b[0m \u001b[32m763.4/763.4 kB\u001b[0m \u001b[31m12.5 MB/s\u001b[0m eta \u001b[36m0:00:00\u001b[0m\n",
            "\u001b[?25h"
          ]
        }
      ]
    },
    {
      "cell_type": "code",
      "execution_count": 98,
      "metadata": {
        "id": "WltXMgIcoSh_"
      },
      "outputs": [],
      "source": [
        "from numpy import loadtxt\n",
        "import numpy as np\n",
        "import pandas as pd\n",
        "# for the improved version, for more flexible of my design, we decide to use PyTorch framework to create a model\n",
        "import torch\n",
        "import torch.nn as nn\n",
        "import timm\n",
        "from tqdm.auto import tqdm\n",
        "from torch.utils.data import Dataset, DataLoader\n",
        "from typing import List, Tuple, Dict\n",
        "from torchmetrics import Accuracy\n",
        "from torchmetrics.classification import BinaryAccuracy\n",
        "from torchsummary import summary\n",
        "from sklearn.model_selection import StratifiedKFold\n",
        "import matplotlib.pyplot as plt\n",
        "import glob\n",
        "import os\n",
        "%matplotlib inline"
      ]
    },
    {
      "cell_type": "markdown",
      "source": [
        "## Prepare data for training"
      ],
      "metadata": {
        "id": "XuZkvagpsn0Z"
      }
    },
    {
      "cell_type": "code",
      "source": [
        "# download diabetes datasest and its description\n",
        "!wget \"https://raw.githubusercontent.com/jbrownlee/Datasets/master/pima-indians-diabetes.data.csv\"\n",
        "!wget \"https://raw.githubusercontent.com/jbrownlee/Datasets/master/pima-indians-diabetes.names\""
      ],
      "metadata": {
        "id": "YVciuImOp4He",
        "colab": {
          "base_uri": "https://localhost:8080/"
        },
        "outputId": "cb28e883-17c7-4e5a-9437-7b438dbf96ef"
      },
      "execution_count": null,
      "outputs": [
        {
          "output_type": "stream",
          "name": "stdout",
          "text": [
            "--2023-09-10 07:18:28--  https://raw.githubusercontent.com/jbrownlee/Datasets/master/pima-indians-diabetes.data.csv\n",
            "Resolving raw.githubusercontent.com (raw.githubusercontent.com)... 185.199.108.133, 185.199.109.133, 185.199.110.133, ...\n",
            "Connecting to raw.githubusercontent.com (raw.githubusercontent.com)|185.199.108.133|:443... connected.\n",
            "HTTP request sent, awaiting response... 200 OK\n",
            "Length: 23278 (23K) [text/plain]\n",
            "Saving to: ‘pima-indians-diabetes.data.csv’\n",
            "\n",
            "\r          pima-indi   0%[                    ]       0  --.-KB/s               \rpima-indians-diabet 100%[===================>]  22.73K  --.-KB/s    in 0.002s  \n",
            "\n",
            "2023-09-10 07:18:28 (9.61 MB/s) - ‘pima-indians-diabetes.data.csv’ saved [23278/23278]\n",
            "\n",
            "--2023-09-10 07:18:28--  https://raw.githubusercontent.com/jbrownlee/Datasets/master/pima-indians-diabetes.names\n",
            "Resolving raw.githubusercontent.com (raw.githubusercontent.com)... 185.199.108.133, 185.199.109.133, 185.199.110.133, ...\n",
            "Connecting to raw.githubusercontent.com (raw.githubusercontent.com)|185.199.108.133|:443... connected.\n",
            "HTTP request sent, awaiting response... 200 OK\n",
            "Length: 3066 (3.0K) [text/plain]\n",
            "Saving to: ‘pima-indians-diabetes.names’\n",
            "\n",
            "pima-indians-diabet 100%[===================>]   2.99K  --.-KB/s    in 0s      \n",
            "\n",
            "2023-09-10 07:18:28 (38.8 MB/s) - ‘pima-indians-diabetes.names’ saved [3066/3066]\n",
            "\n"
          ]
        }
      ]
    },
    {
      "cell_type": "markdown",
      "source": [
        "## TODO 1: Split dataset into Input (X) and Output (y)\n",
        "\n",
        "**Score: 1%**\n",
        "\n",
        "**Input Variables (X):**\n",
        "1. Number of times pregnant\n",
        "2. Plasma glucose concentration at 2 hours in an oral glucose tolerance test\n",
        "3. Diastolic blood pressure (mm Hg)\n",
        "4. Triceps skin fold thickness (mm)\n",
        "5. 2-hour serum insulin (mu U/ml)\n",
        "6. Body mass index (weight in kg/(height in m)^2)\n",
        "7. Diabetes pedigree function\n",
        "8. Age (years)\n",
        "\n",
        "**Output Variables (y):**\n",
        "9. Class variable (0 or 1)\n",
        "\n",
        "**Guideline:**\n",
        "\n",
        "You can split the array into two arrays by selecting subsets of columns\n",
        "using the standard NumPy slice operator or “:”.\n",
        "\n",
        "Remember, in NumPy, the first column always started at 0\n",
        "\n",
        "**Instruction:**\n",
        "\n",
        "Split data into input (`X`) and output (`y`) variables, respectively. Repleace `None` to a number."
      ],
      "metadata": {
        "id": "ivhbe9h3uLNX"
      }
    },
    {
      "cell_type": "code",
      "source": [
        "# check for the datashape in order to split the dataset\n",
        "dataset = loadtxt('/content/pima-indians-diabetes.data.csv', delimiter=',')\n",
        "print(dataset.shape)\n",
        "dataset"
      ],
      "metadata": {
        "colab": {
          "base_uri": "https://localhost:8080/"
        },
        "id": "Qz33554Fg_Bp",
        "outputId": "f66e7794-afe3-45ee-fc0d-ef5c58c9f75e"
      },
      "execution_count": null,
      "outputs": [
        {
          "output_type": "stream",
          "name": "stdout",
          "text": [
            "(768, 9)\n"
          ]
        },
        {
          "output_type": "execute_result",
          "data": {
            "text/plain": [
              "array([[  6.   , 148.   ,  72.   , ...,   0.627,  50.   ,   1.   ],\n",
              "       [  1.   ,  85.   ,  66.   , ...,   0.351,  31.   ,   0.   ],\n",
              "       [  8.   , 183.   ,  64.   , ...,   0.672,  32.   ,   1.   ],\n",
              "       ...,\n",
              "       [  5.   , 121.   ,  72.   , ...,   0.245,  30.   ,   0.   ],\n",
              "       [  1.   , 126.   ,  60.   , ...,   0.349,  47.   ,   1.   ],\n",
              "       [  1.   ,  93.   ,  70.   , ...,   0.315,  23.   ,   0.   ]])"
            ]
          },
          "metadata": {},
          "execution_count": 4
        }
      ]
    },
    {
      "cell_type": "code",
      "source": [
        "# load the dataset\n",
        "dataset = loadtxt('/content/pima-indians-diabetes.data.csv', delimiter=',')\n",
        "X = dataset[:, :-1]\n",
        "y = dataset[:, -1]"
      ],
      "metadata": {
        "id": "XGIAFis8tYTo"
      },
      "execution_count": null,
      "outputs": []
    },
    {
      "cell_type": "code",
      "source": [
        "# check the data shape after we made a splitm where it is in form of (rows, cols)\n",
        "print(X.shape, y.shape)"
      ],
      "metadata": {
        "colab": {
          "base_uri": "https://localhost:8080/"
        },
        "id": "07-SoXIRhVYL",
        "outputId": "406483a1-b8b8-4c26-d33f-b229cd826630"
      },
      "execution_count": null,
      "outputs": [
        {
          "output_type": "stream",
          "name": "stdout",
          "text": [
            "(768, 8) (768,)\n"
          ]
        }
      ]
    },
    {
      "cell_type": "markdown",
      "source": [
        "# Quick Visualization\n",
        "- to see some distribution of the data"
      ],
      "metadata": {
        "id": "0Ys2_VQS-bPQ"
      }
    },
    {
      "cell_type": "code",
      "source": [
        "# make a visualization\n",
        "# Plot the histogram\n",
        "plt.hist(y, bins=20, color='blue', edgecolor='black')  # You can adjust the number of bins\n",
        "plt.title('Histogram')\n",
        "plt.xlabel('X-axis label')\n",
        "plt.ylabel('Frequency')\n",
        "plt.grid(True)\n",
        "# Show the plot\n",
        "plt.show()"
      ],
      "metadata": {
        "colab": {
          "base_uri": "https://localhost:8080/",
          "height": 472
        },
        "id": "3y_ttYu_-Qfx",
        "outputId": "c02c5c90-4bd4-4e59-a748-0fdd9bc1bb81"
      },
      "execution_count": null,
      "outputs": [
        {
          "output_type": "display_data",
          "data": {
            "text/plain": [
              "<Figure size 640x480 with 1 Axes>"
            ],
            "image/png": "[encoded data removed]"
          },
          "metadata": {}
        }
      ]
    },
    {
      "cell_type": "code",
      "source": [
        "# show that the dataset has 768 records of datqa and 8 features exluding the label itself\n",
        "index = 300\n",
        "print('here is a feature shape:', X.shape)\n",
        "print(X[index])\n",
        "print('here is a label shape:',y.shape)\n",
        "print(y[index])"
      ],
      "metadata": {
        "colab": {
          "base_uri": "https://localhost:8080/"
        },
        "id": "HSAvunufhfCV",
        "outputId": "36e9cd41-842f-42aa-bbb7-4d0f79bd19c0"
      },
      "execution_count": 16,
      "outputs": [
        {
          "output_type": "stream",
          "name": "stdout",
          "text": [
            "here is a feature shape: (768, 8)\n",
            "[  0.    167.      0.      0.      0.     32.3     0.839  30.   ]\n",
            "here is a label shape: (768,)\n",
            "1.0\n"
          ]
        }
      ]
    },
    {
      "cell_type": "markdown",
      "source": [
        "## TODO 2: Training and Testing\n",
        "\n",
        "**Score: 1%**\n",
        "\n",
        "**Instruction:**\n",
        "\n",
        "Fill out `None` to split dataset into 80% and 20% for training and testing datasets, respectively.\n",
        "\n"
      ],
      "metadata": {
        "id": "iYh1SJ-ihi6Q"
      }
    },
    {
      "cell_type": "code",
      "source": [
        "train = 0.8 # since we will make a 80% split\n",
        "train_b = int(np.rint(X.shape[0] * train))\n",
        "print('Total records in training batch:', train_b, 'that is', (train_b/dataset.shape[0]),'%')\n",
        "\n",
        "X_train = X[0:train_b, :]\n",
        "y_train = y[0:train_b]\n",
        "X_test  = X[train_b:, :]\n",
        "y_test  = y[train_b:]\n",
        "\n",
        "# check for its shape after make a train, test, split\n",
        "print('X_train shape:',X_train.shape)\n",
        "print('y_train shape:',y_train.shape)\n",
        "print('X_test shape:',X_test.shape)\n",
        "print('y_test shape:',y_test.shape)"
      ],
      "metadata": {
        "id": "HeEitxh9ctLJ",
        "colab": {
          "base_uri": "https://localhost:8080/"
        },
        "outputId": "928752b5-9672-43ff-97d2-f355046ebd29"
      },
      "execution_count": 17,
      "outputs": [
        {
          "output_type": "stream",
          "name": "stdout",
          "text": [
            "Total records in training batch: 614 that is 0.7994791666666666 %\n",
            "X_train shape: (614, 8)\n",
            "y_train shape: (614,)\n",
            "X_test shape: (154, 8)\n",
            "y_test shape: (154,)\n"
          ]
        }
      ]
    },
    {
      "cell_type": "code",
      "source": [
        "# check that what we split is correct\n",
        "index = 300\n",
        "print(X_train[index])\n",
        "print(y_train[index])"
      ],
      "metadata": {
        "colab": {
          "base_uri": "https://localhost:8080/"
        },
        "id": "LAN6svWMohvC",
        "outputId": "2082e5a1-1556-40a1-953d-018cff82e3b5"
      },
      "execution_count": 18,
      "outputs": [
        {
          "output_type": "stream",
          "name": "stdout",
          "text": [
            "[  0.    167.      0.      0.      0.     32.3     0.839  30.   ]\n",
            "1.0\n"
          ]
        }
      ]
    },
    {
      "cell_type": "markdown",
      "source": [
        "# Construct a new model ✅"
      ],
      "metadata": {
        "id": "5SmrcfFw7dNg"
      }
    },
    {
      "cell_type": "code",
      "source": [
        "# construct a custom dataset to pass it through dataloader\n",
        "class pidDataset(Dataset):\n",
        "  def __init__(self,\n",
        "               data: np.ndarray,\n",
        "               label: np.ndarray,\n",
        "               required_torch: bool=True):\n",
        "\n",
        "    self.data = data\n",
        "    self.label = label\n",
        "    self.required_torch = required_torch\n",
        "\n",
        "  def __len__(self) -> int:\n",
        "    return len(self.data)\n",
        "\n",
        "  def __getitem__(self, index: int) -> Tuple:\n",
        "    # index the data to be returned\n",
        "    feature = np.array(self.data[index], dtype=np.float64)\n",
        "    label = np.array(self.label[index], dtype=np.float64)\n",
        "\n",
        "    if (self.required_torch):\n",
        "      feature = torch.from_numpy(feature)\n",
        "      label = torch.from_numpy(label)\n",
        "\n",
        "    return feature, label\n"
      ],
      "metadata": {
        "id": "uiOOPc2p7c82"
      },
      "execution_count": 19,
      "outputs": []
    },
    {
      "cell_type": "code",
      "source": [
        "# Create an instance of custom PID dataset\n",
        "train_dataset = pidDataset(X_train, y_train)\n",
        "test_dataset = pidDataset(X_test, y_test)\n",
        "\n",
        "# Create a DataLoader (default will be in format of torch)\n",
        "batch_size = 10\n",
        "train_dataloader = DataLoader(train_dataset, batch_size=batch_size, shuffle=True)\n",
        "test_dataloader = DataLoader(test_dataset, batch_size=batch_size)"
      ],
      "metadata": {
        "id": "g2mKb81V-K38"
      },
      "execution_count": 20,
      "outputs": []
    },
    {
      "cell_type": "code",
      "source": [
        "# test for output from the dataloader\n",
        "next(iter(train_dataloader))"
      ],
      "metadata": {
        "colab": {
          "base_uri": "https://localhost:8080/"
        },
        "id": "y0ZYtG45_kxz",
        "outputId": "f303f546-cac1-44be-8234-93fb56b82f7a"
      },
      "execution_count": 21,
      "outputs": [
        {
          "output_type": "execute_result",
          "data": {
            "text/plain": [
              "[tensor([[8.0000e+00, 1.0000e+02, 7.6000e+01, 0.0000e+00, 0.0000e+00, 3.8700e+01,\n",
              "          1.9000e-01, 4.2000e+01],\n",
              "         [7.0000e+00, 1.3600e+02, 7.4000e+01, 2.6000e+01, 1.3500e+02, 2.6000e+01,\n",
              "          6.4700e-01, 5.1000e+01],\n",
              "         [1.0000e+00, 8.0000e+01, 7.4000e+01, 1.1000e+01, 6.0000e+01, 3.0000e+01,\n",
              "          5.2700e-01, 2.2000e+01],\n",
              "         [7.0000e+00, 1.6800e+02, 8.8000e+01, 4.2000e+01, 3.2100e+02, 3.8200e+01,\n",
              "          7.8700e-01, 4.0000e+01],\n",
              "         [2.0000e+00, 1.9700e+02, 7.0000e+01, 4.5000e+01, 5.4300e+02, 3.0500e+01,\n",
              "          1.5800e-01, 5.3000e+01],\n",
              "         [1.0000e+00, 1.4300e+02, 8.6000e+01, 3.0000e+01, 3.3000e+02, 3.0100e+01,\n",
              "          8.9200e-01, 2.3000e+01],\n",
              "         [0.0000e+00, 1.1300e+02, 8.0000e+01, 1.6000e+01, 0.0000e+00, 3.1000e+01,\n",
              "          8.7400e-01, 2.1000e+01],\n",
              "         [0.0000e+00, 1.2600e+02, 8.4000e+01, 2.9000e+01, 2.1500e+02, 3.0700e+01,\n",
              "          5.2000e-01, 2.4000e+01],\n",
              "         [4.0000e+00, 1.3200e+02, 8.6000e+01, 3.1000e+01, 0.0000e+00, 2.8000e+01,\n",
              "          4.1900e-01, 6.3000e+01],\n",
              "         [2.0000e+00, 1.2000e+02, 7.6000e+01, 3.7000e+01, 1.0500e+02, 3.9700e+01,\n",
              "          2.1500e-01, 2.9000e+01]], dtype=torch.float64),\n",
              " tensor([0., 0., 0., 1., 1., 0., 0., 0., 0., 0.], dtype=torch.float64)]"
            ]
          },
          "metadata": {},
          "execution_count": 21
        }
      ]
    },
    {
      "cell_type": "markdown",
      "source": [
        "# Custom `FeaturizedConvolution` Network 🔥🏆\n",
        "\n",
        "\n",
        "---\n",
        "\n",
        "\n",
        "***Remarks:*** As of survey with some classmates until September 10th, This is the `smallest` and `fastest` model existing in the Deep Learning class right now ! 🥇\n",
        "\n",
        "\n",
        "---\n",
        "\n",
        "\n",
        "\n",
        "1.   smaller than `AutoML` ensemble model params that stacked many models in many layers (e.g. WeightEnsembleL2/L3 from AutoGluon)\n",
        "\n",
        "2.   obtain `81.25% accuracy`✅ by containing just only `176 parameters`! which is smaller than professor model (neural network with 209params achieving 76% accuracy)\n",
        "\n",
        "![custommodel_size_new.PNG](data:image/png;base64,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)\n",
        "\n",
        "3. faster training time `(<30 seconds even when performing cross validation)` even it utilize CPU as an accelerator ⚡\n",
        "\n",
        "4. no need for ensembling of many trees that required many increased parameters 🌳\n",
        "\n",
        "5. acheives `competitive performance` with gradient-boosting algorithm or some deep learning model (e.g. catboost79, professorModel76) ⛹\n",
        "\n",
        "---\n",
        "- Credits: This Architecture was designed by `Mr. Pavaris Ruangchutiphophan` inspired by an idea of 1-dimensional convolution on signal data\n",
        "---"
      ],
      "metadata": {
        "id": "LISbo1nEcM_d"
      }
    },
    {
      "cell_type": "markdown",
      "source": [
        "![Simple-1D-convolutional-neural-network-CNN-architecture-with-two-convolutional-layers.jpg](data:image/jpeg;base64,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)"
      ],
      "metadata": {
        "id": "LAF6JKuwW5rO"
      }
    },
    {
      "cell_type": "code",
      "source": [
        "# write a training loop, and, optimize the model\n",
        "class cnn1Dmodel(nn.Module):\n",
        "  # write a initialization of the model\n",
        "  def __init__(self,\n",
        "               input_features: int,\n",
        "               out_features: int,\n",
        "               num_labels: int,\n",
        "               k_size: int = 2,\n",
        "               stride: int = 1\n",
        "               ):\n",
        "\n",
        "    super(cnn1Dmodel, self).__init__()\n",
        "    # for featurized the input into much more interesting way\n",
        "    self.conv1 = nn.Conv1d(in_channels=input_features,\n",
        "                           out_channels=out_features,\n",
        "                           kernel_size=k_size,\n",
        "                           stride=stride,\n",
        "                           )\n",
        "    # this is a normal nn as we know\n",
        "    self.dense1 = nn.Linear(in_features=4,\n",
        "                            out_features=12,\n",
        "                            bias=True)\n",
        "\n",
        "    self.dense2 = nn.Linear(in_features=12,\n",
        "                            out_features=8,\n",
        "                            bias=True)\n",
        "\n",
        "    self.output_layer = nn.Linear(in_features=8,\n",
        "                                  out_features=1,\n",
        "                                  bias=True)\n",
        "\n",
        "  # this part is just for testing convolution\n",
        "  def test_convolve(self, x: torch.Tensor)->torch.Tensor:\n",
        "    return self.conv1(x)\n",
        "\n",
        "  def forward(self, x: torch.Tensor)->torch.Tensor:\n",
        "    # do convolution\n",
        "    convolve = self.conv1(x)\n",
        "    x1 = self.dense1(convolve)\n",
        "    x2 = self.dense2(x1)\n",
        "    # here is the raw logits output, we will not convert it here\n",
        "    logits = self.output_layer(x2)\n",
        "\n",
        "    return logits\n",
        "\n"
      ],
      "metadata": {
        "id": "hpjlS9X4AwZy"
      },
      "execution_count": 22,
      "outputs": []
    },
    {
      "cell_type": "code",
      "source": [
        "# define a model\n",
        "model1 = cnn1Dmodel(input_features=1,\n",
        "               out_features=1,\n",
        "               num_labels=2,\n",
        "               k_size= 2,\n",
        "               stride= 2)\n",
        "model1"
      ],
      "metadata": {
        "id": "sxt-3--AFoxU",
        "colab": {
          "base_uri": "https://localhost:8080/"
        },
        "outputId": "36e73527-e6d2-483a-ae53-da32a05f8de6"
      },
      "execution_count": 23,
      "outputs": [
        {
          "output_type": "execute_result",
          "data": {
            "text/plain": [
              "cnn1Dmodel(\n",
              "  (conv1): Conv1d(1, 1, kernel_size=(2,), stride=(2,))\n",
              "  (dense1): Linear(in_features=4, out_features=12, bias=True)\n",
              "  (dense2): Linear(in_features=12, out_features=8, bias=True)\n",
              "  (output_layer): Linear(in_features=8, out_features=1, bias=True)\n",
              ")"
            ]
          },
          "metadata": {},
          "execution_count": 23
        }
      ]
    },
    {
      "cell_type": "code",
      "source": [
        "next(iter(train_dataloader))[0].unsqueeze(1).shape"
      ],
      "metadata": {
        "colab": {
          "base_uri": "https://localhost:8080/"
        },
        "id": "I7UUvlPPGd0w",
        "outputId": "e35c4910-5dd4-442e-efca-9cc872985bd7"
      },
      "execution_count": null,
      "outputs": [
        {
          "output_type": "execute_result",
          "data": {
            "text/plain": [
              "torch.Size([10, 1, 8])"
            ]
          },
          "metadata": {},
          "execution_count": 373
        }
      ]
    },
    {
      "cell_type": "code",
      "source": [
        "sequence_length = 8  # Adjust the sequence length as needed\n",
        "batch_size = 10\n",
        "num_features = 1\n",
        "\n",
        "# Generate random input data with the specified shape\n",
        "input_data = torch.randn(batch_size, num_features, sequence_length)\n",
        "print(input_data.shape)\n",
        "print(model1.test_convolve(input_data).shape)\n",
        "model1.test_convolve(input_data)"
      ],
      "metadata": {
        "colab": {
          "base_uri": "https://localhost:8080/"
        },
        "id": "rOn2w0OVQCIA",
        "outputId": "aabbe55e-bbe8-4570-b920-f26fe4207413"
      },
      "execution_count": null,
      "outputs": [
        {
          "output_type": "stream",
          "name": "stdout",
          "text": [
            "torch.Size([10, 1, 8])\n",
            "torch.Size([10, 1, 4])\n"
          ]
        },
        {
          "output_type": "execute_result",
          "data": {
            "text/plain": [
              "tensor([[[ 8.4148e-01,  4.1318e-01,  6.3343e-01,  8.8920e-01]],\n",
              "\n",
              "        [[-4.1450e-02,  7.1026e-01,  7.7008e-01,  1.8200e+00]],\n",
              "\n",
              "        [[ 1.1519e-01,  1.1432e+00,  1.3376e+00,  2.0481e-01]],\n",
              "\n",
              "        [[ 1.0583e-01,  1.2287e+00,  2.7885e-01,  7.1403e-01]],\n",
              "\n",
              "        [[ 2.4301e-01, -8.0442e-02,  1.7915e+00,  2.3122e-01]],\n",
              "\n",
              "        [[ 1.2278e+00,  1.2075e-01,  1.3536e-01, -7.7093e-02]],\n",
              "\n",
              "        [[ 4.1838e-04,  1.5343e+00, -6.0174e-01,  1.3970e+00]],\n",
              "\n",
              "        [[ 1.6938e-01,  5.5918e-02,  5.7407e-01,  5.7142e-01]],\n",
              "\n",
              "        [[ 6.7968e-01,  8.8251e-01, -1.0807e-01,  1.0535e+00]],\n",
              "\n",
              "        [[ 4.3164e-01,  1.9947e-01,  5.9275e-01,  3.6586e-01]]],\n",
              "       grad_fn=<ConvolutionBackward0>)"
            ]
          },
          "metadata": {},
          "execution_count": 374
        }
      ]
    },
    {
      "cell_type": "markdown",
      "source": [
        "# Construct a Training loop\n",
        "- keytakaways: `AdamW` converge `2x faster` than `Lion` optimizer in this case."
      ],
      "metadata": {
        "id": "5C8ClBxjKwGa"
      }
    },
    {
      "cell_type": "code",
      "source": [
        "# define loss function and optimizer (Lion)\n",
        "from lion_pytorch import Lion\n",
        "\n",
        "# define a model\n",
        "model1 = cnn1Dmodel(input_features=1, out_features=1,num_labels=2,k_size= 2,stride= 2)\n",
        "# optimizer = Lion(model1.parameters(), lr=1e-2, weight_decay=1e-2)\n",
        "optimizer = torch.optim.AdamW(model1.parameters(), lr=1e-2)\n",
        "metric = BinaryAccuracy()\n",
        "loss_fn = nn.BCELoss()"
      ],
      "metadata": {
        "id": "Xz04O7_TNLqS"
      },
      "execution_count": null,
      "outputs": []
    },
    {
      "cell_type": "code",
      "source": [
        "epochs = 300\n",
        "\n",
        "torch.manual_seed(69)\n",
        " # convert all the model parameters into double type.\n",
        " # This should give a compatible model given your input data is double\n",
        "model1 = model1.double()\n",
        "\n",
        "epoch_counts = []\n",
        "train_loss_values = []\n",
        "val_loss_values = []\n",
        "\n",
        "best_val_acc, best_val_loss = 0, 0\n",
        "for epoch in tqdm(range(epochs), desc='training the model ...'):\n",
        "  ## Training\n",
        "  train_acc, train_loss = 0, 0\n",
        "  # Add a loop to loop trhough the training batches\n",
        "  for batch, (features, labels) in enumerate(train_dataloader):\n",
        "    model1.train()\n",
        "    # forward pass\n",
        "    # format label to make it compatible with prediction\n",
        "    labels = labels.unsqueeze(-1).unsqueeze(-1)\n",
        "    raw_logits = model1(features.unsqueeze(1))\n",
        "    #print(raw_logits)\n",
        "    probs = torch.sigmoid(raw_logits)\n",
        "    preds = (probs > 0.5).float()\n",
        "    # since bceLoss take probability as an input (not logits)\n",
        "    loss = loss_fn(probs, labels)\n",
        "    acc = metric(preds, labels)\n",
        "    # save stats\n",
        "    train_loss += loss\n",
        "    train_acc += acc\n",
        "\n",
        "    # optimizer zero grad\n",
        "    optimizer.zero_grad()\n",
        "    # compute backward loss (backpropagation)\n",
        "    loss.backward()\n",
        "    # Gradient Descent (optimizer step)\n",
        "    optimizer.step()\n",
        "\n",
        "  train_loss /= len(train_dataloader)\n",
        "  train_acc /= len(train_dataloader)\n",
        "\n",
        "  # evaluation loop\n",
        "  val_acc, val_loss = 0, 0\n",
        "  for batch, (val_features, val_labels) in enumerate(test_dataloader):\n",
        "    with torch.inference_mode():\n",
        "      # make it compare to prediction\n",
        "      val_labels = val_labels.unsqueeze(-1).unsqueeze(-1)\n",
        "      val_logits = model1(val_features.unsqueeze(1))\n",
        "      val_probs = torch.sigmoid(val_logits)\n",
        "      val_preds = (val_probs > 0.5).float()\n",
        "      loss = loss_fn(val_probs, val_labels)\n",
        "      acc = metric(val_preds, val_labels)\n",
        "      # update stats\n",
        "      val_loss += loss\n",
        "      val_acc += acc\n",
        "\n",
        "  val_loss = val_loss / len(test_dataloader)\n",
        "  val_acc  = val_acc / len(test_dataloader)\n",
        "\n",
        "  if (val_acc > best_val_acc):\n",
        "    print(f\"Best Model @ epoch : {epoch}\")\n",
        "    print(f\"Train loss: {train_loss:.4f} | val loss : {val_loss:.4f} | train acc: {train_acc:.4f} | val acc: {val_acc:.4f}\")\n",
        "    best_val_acc = val_acc\n",
        "    torch.save(model1.state_dict(), f'/content/custom_model/best_model_1.pth')\n",
        "\n",
        "  # if (epoch % 20 == 0):\n",
        "  #   print(f\"Epoch : {epoch}\\n------\")\n",
        "  #   print(f\"\\nTrain loss: {train_loss:.4f} | val loss : {val_loss:.4f} | train acc: {train_acc:.4f} | val acc: {val_acc:.4f}\")\n"
      ],
      "metadata": {
        "colab": {
          "base_uri": "https://localhost:8080/",
          "height": 361,
          "referenced_widgets": [
            "49bbfc4b2e264727aeed57618bef4f0b",
            "0c26dc389f3445e4b1e80f06f5ed0500",
            "76a8e750006a4fb6b63250369f30cd77",
            "fa82468b6294497f87cfce9fff9e25a2",
            "3b99c5b2f40249198fd7ca910650834d",
            "5f04d6cddf2444128877c1c30bfbeafe",
            "adbf06c89db24ae88c096b499e92c7c3",
            "be6b36d5dd7f4d05915cda2780f01583",
            "b14c4288f6da4d94a165201e875fe612",
            "fea7acaf122840a18e5201848ceb0c88",
            "3051ce34460a460ca5ac303e89bd65fe"
          ]
        },
        "id": "_6w9fVloKyzL",
        "outputId": "50a4db2c-5793-4d3e-b20a-97981e489985"
      },
      "execution_count": null,
      "outputs": [
        {
          "output_type": "display_data",
          "data": {
            "text/plain": [
              "training the model ...:   0%|          | 0/300 [00:00<?, ?it/s]"
            ],
            "application/vnd.jupyter.widget-view+json": {
              "version_major": 2,
              "version_minor": 0,
              "model_id": "49bbfc4b2e264727aeed57618bef4f0b"
            }
          },
          "metadata": {}
        },
        {
          "output_type": "stream",
          "name": "stdout",
          "text": [
            "Best Model @ epoch : 0\n",
            "Train loss: 0.8165 | val loss : 0.6846 | train acc: 0.5629 | val acc: 0.5906\n",
            "Best Model @ epoch : 1\n",
            "Train loss: 0.6734 | val loss : 0.6641 | train acc: 0.6266 | val acc: 0.6594\n",
            "Best Model @ epoch : 4\n",
            "Train loss: 0.6055 | val loss : 0.6099 | train acc: 0.6798 | val acc: 0.6719\n",
            "Best Model @ epoch : 6\n",
            "Train loss: 0.5803 | val loss : 0.5976 | train acc: 0.6895 | val acc: 0.7156\n",
            "Best Model @ epoch : 7\n",
            "Train loss: 0.5835 | val loss : 0.5625 | train acc: 0.6960 | val acc: 0.7594\n",
            "Best Model @ epoch : 15\n",
            "Train loss: 0.5536 | val loss : 0.5261 | train acc: 0.7306 | val acc: 0.7656\n",
            "Best Model @ epoch : 17\n",
            "Train loss: 0.5608 | val loss : 0.5287 | train acc: 0.7056 | val acc: 0.7781\n",
            "Best Model @ epoch : 28\n",
            "Train loss: 0.5438 | val loss : 0.5245 | train acc: 0.7403 | val acc: 0.8000\n",
            "Best Model @ epoch : 119\n",
            "Train loss: 0.5426 | val loss : 0.5157 | train acc: 0.7371 | val acc: 0.8125\n"
          ]
        }
      ]
    },
    {
      "cell_type": "code",
      "source": [
        "# Print the model summary, including the number of parameters and memory usage\n",
        "summary(model1, (1, 8))"
      ],
      "metadata": {
        "colab": {
          "base_uri": "https://localhost:8080/"
        },
        "id": "-c-DDKK6zZtc",
        "outputId": "aff35f72-9c67-4e52-c6f0-5c38dabcb7ec"
      },
      "execution_count": null,
      "outputs": [
        {
          "output_type": "stream",
          "name": "stdout",
          "text": [
            "----------------------------------------------------------------\n",
            "        Layer (type)               Output Shape         Param #\n",
            "================================================================\n",
            "            Conv1d-1                 [-1, 1, 4]               3\n",
            "            Linear-2                [-1, 1, 12]              60\n",
            "            Linear-3                 [-1, 1, 8]             104\n",
            "            Linear-4                 [-1, 1, 1]               9\n",
            "================================================================\n",
            "Total params: 176\n",
            "Trainable params: 176\n",
            "Non-trainable params: 0\n",
            "----------------------------------------------------------------\n",
            "Input size (MB): 0.00\n",
            "Forward/backward pass size (MB): 0.00\n",
            "Params size (MB): 0.00\n",
            "Estimated Total Size (MB): 0.00\n",
            "----------------------------------------------------------------\n"
          ]
        }
      ]
    },
    {
      "cell_type": "markdown",
      "source": [
        "# Psuedo Labelling Part"
      ],
      "metadata": {
        "id": "hFCHLxngeLzS"
      }
    },
    {
      "cell_type": "code",
      "source": [
        "# Load the saved state dictionary of the best model (acc: 0.81) into the model\n",
        "psuedo_model = cnn1Dmodel(input_features=1, out_features=1,num_labels=2,k_size= 2,stride= 2)\n",
        "psuedo_model.load_state_dict(torch.load('/content/custom_model/best_model_1.pth'))\n",
        "psuedo_model"
      ],
      "metadata": {
        "colab": {
          "base_uri": "https://localhost:8080/"
        },
        "id": "SNaeak-4eOBm",
        "outputId": "cc1d8830-784a-4c1b-8739-f348fd9cb82a"
      },
      "execution_count": null,
      "outputs": [
        {
          "output_type": "execute_result",
          "data": {
            "text/plain": [
              "cnn1Dmodel(\n",
              "  (conv1): Conv1d(1, 1, kernel_size=(2,), stride=(2,))\n",
              "  (dense1): Linear(in_features=4, out_features=12, bias=True)\n",
              "  (dense2): Linear(in_features=12, out_features=8, bias=True)\n",
              "  (output_layer): Linear(in_features=8, out_features=1, bias=True)\n",
              ")"
            ]
          },
          "metadata": {},
          "execution_count": 339
        }
      ]
    },
    {
      "cell_type": "code",
      "source": [
        "# create a dataloader for specific pseudo labelling part\n",
        "pseudo_dataloader = DataLoader(test_dataset, batch_size=1) # consider each of them instead of batch"
      ],
      "metadata": {
        "id": "35prvs1hennb"
      },
      "execution_count": null,
      "outputs": []
    },
    {
      "cell_type": "code",
      "source": [
        "# make a psuedo label\n",
        "conf = [] # to keep the pseudo labels\n",
        "\n",
        "# convert the model into double format\n",
        "psuedo_model = psuedo_model.double()\n",
        "for index, (feature, label) in enumerate(pseudo_dataloader):\n",
        "  with torch.inference_mode():\n",
        "    label = label.unsqueeze(-1).unsqueeze(-1)\n",
        "    logit = psuedo_model(feature.unsqueeze(1))\n",
        "    prob = torch.sigmoid(logit)\n",
        "    # get condition part\n",
        "    if (prob > 0.85):\n",
        "      conf.append(index)\n",
        "    elif (prob <= 0.3):\n",
        "      conf.append(index)\n",
        "\n",
        "print(conf)\n",
        "print(len(conf))"
      ],
      "metadata": {
        "colab": {
          "base_uri": "https://localhost:8080/"
        },
        "id": "tJ30J43Ieccm",
        "outputId": "465490f2-a1c5-4dbc-d106-adccd6dc06be"
      },
      "execution_count": null,
      "outputs": [
        {
          "output_type": "stream",
          "name": "stdout",
          "text": [
            "[1, 3, 7, 8, 9, 10, 11, 15, 17, 18, 20, 23, 24, 25, 26, 29, 30, 35, 36, 40, 42, 45, 47, 54, 57, 58, 61, 63, 65, 66, 68, 73, 80, 83, 91, 92, 95, 100, 101, 103, 104, 106, 115, 119, 121, 123, 124, 127, 128, 133, 134, 138, 145, 146, 147, 148, 153]\n",
            "57\n"
          ]
        }
      ]
    },
    {
      "cell_type": "code",
      "source": [
        "# indexing psuedo label\n",
        "psuedo_feature = []\n",
        "psuedo_label = []\n",
        "for id in conf:\n",
        "  psuedo_feature.append(X_test[int(id)])\n",
        "  psuedo_label.append(y_test[int(id)])"
      ],
      "metadata": {
        "id": "c3qYBZ2Lj393"
      },
      "execution_count": null,
      "outputs": []
    },
    {
      "cell_type": "code",
      "source": [
        "# Concatenate the arrays vertically\n",
        "train_features = np.vstack((X_train, psuedo_feature))\n",
        "train_labels = np.hstack((y_train, psuedo_label))"
      ],
      "metadata": {
        "id": "X5ihxcIAlhAf"
      },
      "execution_count": null,
      "outputs": []
    },
    {
      "cell_type": "code",
      "source": [
        "print(\"Before Psuedo Labelling\")\n",
        "print(X_train.shape)\n",
        "print(y_train.shape)\n",
        "print(\"After Psuedo Labelling\")\n",
        "print(train_features.shape)\n",
        "print(train_labels.shape)"
      ],
      "metadata": {
        "colab": {
          "base_uri": "https://localhost:8080/"
        },
        "id": "RPCzdKHSmnN0",
        "outputId": "99d74ab1-b663-41be-c16d-778ad0f9d888"
      },
      "execution_count": null,
      "outputs": [
        {
          "output_type": "stream",
          "name": "stdout",
          "text": [
            "Before Psuedo Labelling\n",
            "(614, 8)\n",
            "(614,)\n",
            "After Psuedo Labelling\n",
            "(671, 8)\n",
            "(671,)\n"
          ]
        }
      ]
    },
    {
      "cell_type": "markdown",
      "source": [
        "# Train the model with `psuedo label`"
      ],
      "metadata": {
        "id": "D6Rn1RAcmy8K"
      }
    },
    {
      "cell_type": "code",
      "source": [
        "# Create an instance of custom PID dataset\n",
        "p_train_dataset = pidDataset(train_features, train_labels)\n",
        "\n",
        "# Create a DataLoader (default will be in format of torch)\n",
        "batch_size = 10\n",
        "p_train_dataloader = DataLoader(p_train_dataset, batch_size=batch_size, shuffle=True)"
      ],
      "metadata": {
        "id": "gINrSE5RmyYT"
      },
      "execution_count": null,
      "outputs": []
    },
    {
      "cell_type": "code",
      "source": [
        "len(p_train_dataloader)"
      ],
      "metadata": {
        "colab": {
          "base_uri": "https://localhost:8080/"
        },
        "id": "fv_sVtjepcyt",
        "outputId": "9477a821-78c5-4866-a35c-31f4e313c197"
      },
      "execution_count": null,
      "outputs": [
        {
          "output_type": "execute_result",
          "data": {
            "text/plain": [
              "68"
            ]
          },
          "metadata": {},
          "execution_count": 347
        }
      ]
    },
    {
      "cell_type": "code",
      "source": [
        "# define a model\n",
        "new_model = cnn1Dmodel(input_features=1, out_features=1,num_labels=2,k_size= 2,stride= 2)\n",
        "optimizer = torch.optim.AdamW(new_model.parameters(), lr=1e-2)"
      ],
      "metadata": {
        "id": "-nzqDzBxnHCD"
      },
      "execution_count": null,
      "outputs": []
    },
    {
      "cell_type": "code",
      "source": [
        "epochs = 300\n",
        "\n",
        "torch.manual_seed(69)\n",
        " # convert all the model parameters into double type.\n",
        " # This should give a compatible model given your input data is double\n",
        "new_model = new_model.double()\n",
        "\n",
        "epoch_counts = []\n",
        "train_loss_values = []\n",
        "val_loss_values = []\n",
        "\n",
        "best_val_acc, best_val_loss = 0, 0\n",
        "for epoch in tqdm(range(epochs), desc='training the model ...'):\n",
        "  ## Training\n",
        "  train_acc, train_loss = 0, 0\n",
        "  # Add a loop to loop trhough the training batches\n",
        "  for batch, (features, labels) in enumerate(p_train_dataloader):\n",
        "    new_model.train()\n",
        "    # forward pass\n",
        "    # format label to make it compatible with prediction\n",
        "    labels = labels.unsqueeze(-1).unsqueeze(-1)\n",
        "    raw_logits = new_model(features.unsqueeze(1))\n",
        "    #print(raw_logits)\n",
        "    probs = torch.sigmoid(raw_logits)\n",
        "    preds = (probs > 0.5).float()\n",
        "    # since bceLoss take probability as an input (not logits)\n",
        "    loss = loss_fn(probs, labels)\n",
        "    acc = metric(preds, labels)\n",
        "    # save stats\n",
        "    train_loss += loss\n",
        "    train_acc += acc\n",
        "\n",
        "    # optimizer zero grad\n",
        "    optimizer.zero_grad()\n",
        "    # compute backward loss (backpropagation)\n",
        "    loss.backward()\n",
        "    # Gradient Descent (optimizer step)\n",
        "    optimizer.step()\n",
        "\n",
        "  train_loss /= len(p_train_dataloader)\n",
        "  train_acc /= len(p_train_dataloader)\n",
        "\n",
        "  # evaluation loop\n",
        "  val_acc, val_loss = 0, 0\n",
        "  for batch, (val_features, val_labels) in enumerate(test_dataloader):\n",
        "    with torch.inference_mode():\n",
        "      # make it compare to prediction\n",
        "      val_labels = val_labels.unsqueeze(-1).unsqueeze(-1)\n",
        "      val_logits = new_model(val_features.unsqueeze(1))\n",
        "      val_probs = torch.sigmoid(val_logits)\n",
        "      val_preds = (val_probs > 0.5).float()\n",
        "      loss = loss_fn(val_probs, val_labels)\n",
        "      acc = metric(val_preds, val_labels)\n",
        "      # update stats\n",
        "      val_loss += loss\n",
        "      val_acc += acc\n",
        "\n",
        "  val_loss = val_loss / len(test_dataloader)\n",
        "  val_acc  = val_acc / len(test_dataloader)\n",
        "\n",
        "  if (val_acc > best_val_acc):\n",
        "    print(f\"Best Model @ epoch : {epoch}\")\n",
        "    print(f\"Train loss: {train_loss:.4f} | val loss : {val_loss:.4f} | train acc: {train_acc:.4f} | val acc: {val_acc:.4f}\")\n",
        "    best_val_acc = val_acc\n",
        "    torch.save(new_model.state_dict(), f'/content/custom_model/best_model_4.pth')\n",
        "\n"
      ],
      "metadata": {
        "colab": {
          "base_uri": "https://localhost:8080/",
          "height": 396,
          "referenced_widgets": [
            "3c7c46235d3c4b0cbcb002fdbe50190e",
            "6ec8a525250f4a44bce81ff06d6d8700",
            "9291ef96bf2640e68808050891eba223",
            "e1da773b624541aa8fb21fc4087de932",
            "fd49715cbf42490a838989ecf645252a",
            "f9d006fed0e740aca09b3598cb5bbff4",
            "d14feab7fb8542d7bf59b886ad3925b2",
            "c28b816f95294438971fa5b5c1df6639",
            "e555a141c20045ab8534c4495ac818c9",
            "3af03693d5084cada1b5fd6ce22d2446",
            "c031e7fec6a14557a2b8cf803c8b847f"
          ]
        },
        "id": "8IsvLS5anS3m",
        "outputId": "6bd7d633-e977-4da2-a6f0-5cc70ef33b7b"
      },
      "execution_count": null,
      "outputs": [
        {
          "output_type": "display_data",
          "data": {
            "text/plain": [
              "training the model ...:   0%|          | 0/300 [00:00<?, ?it/s]"
            ],
            "application/vnd.jupyter.widget-view+json": {
              "version_major": 2,
              "version_minor": 0,
              "model_id": "3c7c46235d3c4b0cbcb002fdbe50190e"
            }
          },
          "metadata": {}
        },
        {
          "output_type": "stream",
          "name": "stdout",
          "text": [
            "Best Model @ epoch : 0\n",
            "Train loss: 0.7660 | val loss : 0.6320 | train acc: 0.6265 | val acc: 0.6719\n",
            "Best Model @ epoch : 3\n",
            "Train loss: 0.6184 | val loss : 0.6069 | train acc: 0.6868 | val acc: 0.6906\n",
            "Best Model @ epoch : 8\n",
            "Train loss: 0.5924 | val loss : 0.5689 | train acc: 0.6926 | val acc: 0.7469\n",
            "Best Model @ epoch : 10\n",
            "Train loss: 0.5703 | val loss : 0.5476 | train acc: 0.7088 | val acc: 0.7531\n",
            "Best Model @ epoch : 16\n",
            "Train loss: 0.5301 | val loss : 0.5151 | train acc: 0.7500 | val acc: 0.7656\n",
            "Best Model @ epoch : 17\n",
            "Train loss: 0.5287 | val loss : 0.5119 | train acc: 0.7412 | val acc: 0.7781\n",
            "Best Model @ epoch : 33\n",
            "Train loss: 0.5394 | val loss : 0.5146 | train acc: 0.7324 | val acc: 0.7875\n",
            "Best Model @ epoch : 42\n",
            "Train loss: 0.5403 | val loss : 0.5255 | train acc: 0.7412 | val acc: 0.8000\n",
            "Best Model @ epoch : 45\n",
            "Train loss: 0.5198 | val loss : 0.5079 | train acc: 0.7397 | val acc: 0.8031\n",
            "Best Model @ epoch : 188\n",
            "Train loss: 0.5179 | val loss : 0.5104 | train acc: 0.7412 | val acc: 0.8062\n"
          ]
        }
      ]
    },
    {
      "cell_type": "markdown",
      "source": [
        "#Ensemble Method of `FeaturizedCNN` ⚡\n",
        "- each fold will be divided by `StratifiedKFold` where `K=5`\n",
        "\n"
      ],
      "metadata": {
        "id": "vBt9r8SC_KJ_"
      }
    },
    {
      "cell_type": "markdown",
      "source": [
        "![stratifiedKfold.png](data:image/png;base64,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)"
      ],
      "metadata": {
        "id": "JgUCbC2fQzgG"
      }
    },
    {
      "cell_type": "code",
      "source": [
        "# get the shape of initial model\n",
        "X.shape, y.shape"
      ],
      "metadata": {
        "colab": {
          "base_uri": "https://localhost:8080/"
        },
        "id": "CmCP7weg_a61",
        "outputId": "2ccdddb8-4e90-4e2d-8d8e-0882f1fed37d"
      },
      "execution_count": null,
      "outputs": [
        {
          "output_type": "execute_result",
          "data": {
            "text/plain": [
              "((768, 8), (768,))"
            ]
          },
          "metadata": {},
          "execution_count": 9
        }
      ]
    },
    {
      "cell_type": "code",
      "source": [
        "# init for stratified K-fold\n",
        "skf = StratifiedKFold(n_splits=5)\n",
        "skf.get_n_splits(X, y)"
      ],
      "metadata": {
        "id": "ebutgS0W_Kpz",
        "colab": {
          "base_uri": "https://localhost:8080/"
        },
        "outputId": "0eae29a6-e568-4d11-d65a-f841bca6dbc3"
      },
      "execution_count": 12,
      "outputs": [
        {
          "output_type": "execute_result",
          "data": {
            "text/plain": [
              "5"
            ]
          },
          "metadata": {},
          "execution_count": 12
        }
      ]
    },
    {
      "cell_type": "code",
      "source": [
        "# check for their split of StratifiedKFold (K-Fold)\n",
        "batch_size = 10\n",
        "epochs = 300\n",
        "\n",
        "# set the seed for reproducibility\n",
        "torch.manual_seed(69)\n",
        "for fold, (train_index, test_index) in enumerate(skf.split(X, y)):\n",
        "  X_train, y_train = X[train_index], y[train_index]\n",
        "  X_test, y_test = X[test_index], y[test_index]\n",
        "  # print(X_train.shape, y_train.shape)\n",
        "  # print(X_test.shape, y_test.shape)\n",
        "\n",
        "  # Create an instance of custom PID dataset\n",
        "  train_dataset = pidDataset(X_train, y_train)\n",
        "  test_dataset = pidDataset(X_test, y_test)\n",
        "\n",
        "  # Create a DataLoader (default will be in format of torch)\n",
        "  train_dataloader = DataLoader(train_dataset, batch_size=batch_size, shuffle=True)\n",
        "  test_dataloader = DataLoader(test_dataset, batch_size=batch_size)\n",
        "\n",
        "  # define a model (with k-fold, we always re-initialize the model)\n",
        "  model = cnn1Dmodel(input_features=1, out_features=1,num_labels=2,k_size= 2,stride= 2)\n",
        "  optimizer = torch.optim.AdamW(model.parameters(), lr=1e-2)\n",
        "  metric = BinaryAccuracy()\n",
        "  loss_fn = nn.BCELoss()\n",
        "\n",
        "  # construct a training loop\n",
        "  # convert all the model parameters into double type.\n",
        "  # This should give a compatible model given your input data is double\n",
        "  model = model.double()\n",
        "\n",
        "  epoch_counts = []\n",
        "  train_loss_values = []\n",
        "  val_loss_values = []\n",
        "\n",
        "  # to keep record of the best model (my epoch start counting from zero)\n",
        "  best_epoch, best_train_acc, best_train_loss = 0, 0, 0\n",
        "  best_val_acc, best_val_loss = 0, 0\n",
        "\n",
        "  for epoch in tqdm(range(epochs), desc=f'training the model at fold{fold+1}'):\n",
        "    ## Training\n",
        "    train_acc, train_loss = 0, 0\n",
        "    # Add a loop to loop trhough the training batches\n",
        "    for batch, (features, labels) in enumerate(train_dataloader):\n",
        "      model.train()\n",
        "      # forward pass\n",
        "      # format label to make it compatible with prediction\n",
        "      labels = labels.unsqueeze(-1).unsqueeze(-1)\n",
        "      raw_logits = model(features.unsqueeze(1))\n",
        "      probs = torch.sigmoid(raw_logits)\n",
        "      preds = (probs > 0.5).float()\n",
        "      # since bceLoss take probability as an input (not logits)\n",
        "      loss = loss_fn(probs, labels)\n",
        "      acc = metric(preds, labels)\n",
        "      # save stats\n",
        "      train_loss += loss\n",
        "      train_acc += acc\n",
        "\n",
        "      # optimizer zero grad\n",
        "      optimizer.zero_grad()\n",
        "      # compute backward loss (backpropagation)\n",
        "      loss.backward()\n",
        "      # Gradient Descent (optimizer step)\n",
        "      optimizer.step()\n",
        "\n",
        "    train_loss /= len(train_dataloader)\n",
        "    train_acc /= len(train_dataloader)\n",
        "\n",
        "    # evaluation loop\n",
        "    val_acc, val_loss = 0, 0\n",
        "    for batch, (val_features, val_labels) in enumerate(test_dataloader):\n",
        "      with torch.inference_mode():\n",
        "        # make it compare to prediction\n",
        "        val_labels = val_labels.unsqueeze(-1).unsqueeze(-1)\n",
        "        val_logits = model(val_features.unsqueeze(1))\n",
        "        val_probs = torch.sigmoid(val_logits)\n",
        "        val_preds = (val_probs > 0.5).float()\n",
        "        loss = loss_fn(val_probs, val_labels)\n",
        "        acc = metric(val_preds, val_labels)\n",
        "        # update stats\n",
        "        val_loss += loss\n",
        "        val_acc += acc\n",
        "\n",
        "    val_loss = val_loss / len(test_dataloader)\n",
        "    val_acc  = val_acc / len(test_dataloader)\n",
        "\n",
        "    if (val_acc > best_val_acc):\n",
        "      # record the stats of the best model\n",
        "      best_val_acc = val_acc # this should be update for finding the best model\n",
        "      best_val_loss = val_loss\n",
        "      best_train_acc = train_acc\n",
        "      best_train_loss = train_loss\n",
        "      best_epoch = epoch\n",
        "      torch.save(model.state_dict(), f'/content/ensemble/best_model_fold{fold+1}.pth')\n",
        "\n",
        "  print(f\"--- Fold{fold+1} ---\")\n",
        "  print(f\"Best Model @ epoch : {best_epoch}\")\n",
        "  print(f\"Train loss: {best_train_loss:.4f} | val loss : {best_val_loss:.4f} | train acc: {best_train_acc:.4f} | val acc: {best_val_acc:.4f}\")\n",
        "\n",
        "  # uncomment this part to visualize each fold\n",
        "  #break"
      ],
      "metadata": {
        "colab": {
          "base_uri": "https://localhost:8080/",
          "height": 437,
          "referenced_widgets": [
            "6ebd39840e784926958cd4a246c8141c",
            "0186af5e445e4bee92dc9b4bd6f220c1",
            "af0c9f09fa1e4629b2c1378992232837",
            "02c3c85b446149dcb5400a2022431318",
            "0981cf20113449c18b5377993c5585dd",
            "329e8d8f8d8c450c8fac841ac91a9207",
            "a2e4a9d08b1841e292bce316863e7c77",
            "407f2e2571e34d01b31839beccfdb1f1",
            "1ab93b77467c49d5ba080f305eb9fb40",
            "965bcb18490d40938edff3c283332708",
            "64dd1aa59ff74cf1b7084a02b7db57e8",
            "a955cfbe728b46648c1db4c92e28abb2",
            "bc9a08ac89df4699a59bf5f6861adcc9",
            "12acb079876f469d96e135cabce0e94f",
            "3b2c56a515394e95acf051f63d7f362d",
            "98731e20dff24862aa474854ced446eb",
            "b1023a185dff4cdbb972ee84c46916dc",
            "7a85e8878e5145cfbe08d62d1904144f",
            "16efef119f8a43d895c57e3bf13db149",
            "981bead0ce3b4bd0ae1b660cfd800b23",
            "da2d12e23f464bc3a8087a426a770f79",
            "7fd0ae2e3c2c4200a8c8df117187d51c",
            "6a6549c7f138467f9786d010730b9894",
            "91b6e23946b744498b035d71ea52bff6",
            "2b32802fd6f8469ab4e9576bf68cf36e",
            "333827f852f34b169b386469345f1027",
            "f8162883cf6a4280abfb4f3a09a92040",
            "b6236c1e05d04dc3bf548a9f25d2ec2f",
            "bdcc1eec466a4f1ca8118dbda9fc2c35",
            "ec9a66754e3c4be2b1f8e7610dffc3ac",
            "e27ec6ee1f9945ddadbf9545a766e353",
            "e0574d12528a459682e34e2645fc22dd",
            "d9c1c3e499544e5eb34e52aa2f8f896d",
            "30e80ac328b445f8979d2f89cbb89e13",
            "1b8d23537e1242988381454a5cd372cc",
            "cd06c432ede14bf280a09ceaa9d26904",
            "2133907173d8411fb5df27600ff5e037",
            "0682c848652b4e2d980c64ae1e0995d3",
            "10675a9bfeb84f1a8a1a9a06f2ee7d0d",
            "ebc5f71a532440b68cc904c9b62f1c42",
            "7108c40894fc4555838921f581be5167",
            "f913aa439be3453da9a5c6840c0a1335",
            "b79a1e05b4bc4df89dc5b3c2746fb9b9",
            "aa936500ae89415eb2ee9e8cee7f7e9e",
            "bd79bb1b7dba43eb89515c35461f97f4",
            "ce783763813545d48edaba2230dc9fa1",
            "617d5b402c524da7a77efd0809aced90",
            "52c94638d4014abab054940929c09898",
            "9bba8b88c41f4b34a0fbe97954080952",
            "a7160c78a56447babe0d75ffd4cbf090",
            "1dfa8ab5d25e43e886ceb408fc76b7e4",
            "e95231967e1b483baf2b00e0cf41f9ed",
            "9ac34e42849342bc83f65cf926b19116",
            "ef5814f8d76c4b33a579432158c5c7af",
            "1294e12c44d94de9b62227be95e25916"
          ]
        },
        "id": "G0ntQtKpBNdi",
        "outputId": "c38a6c99-bb1f-40c7-d6d6-1b8ac049e346"
      },
      "execution_count": 28,
      "outputs": [
        {
          "output_type": "display_data",
          "data": {
            "text/plain": [
              "training the model at fold1:   0%|          | 0/300 [00:00<?, ?it/s]"
            ],
            "application/vnd.jupyter.widget-view+json": {
              "version_major": 2,
              "version_minor": 0,
              "model_id": "6ebd39840e784926958cd4a246c8141c"
            }
          },
          "metadata": {}
        },
        {
          "output_type": "stream",
          "name": "stdout",
          "text": [
            "--- Fold1 ---\n",
            "Best Model @ epoch : 98\n",
            "Train loss: 0.5373 | val loss : 0.5261 | train acc: 0.7403 | val acc: 0.7750\n"
          ]
        },
        {
          "output_type": "display_data",
          "data": {
            "text/plain": [
              "training the model at fold2:   0%|          | 0/300 [00:00<?, ?it/s]"
            ],
            "application/vnd.jupyter.widget-view+json": {
              "version_major": 2,
              "version_minor": 0,
              "model_id": "a955cfbe728b46648c1db4c92e28abb2"
            }
          },
          "metadata": {}
        },
        {
          "output_type": "stream",
          "name": "stdout",
          "text": [
            "--- Fold2 ---\n",
            "Best Model @ epoch : 250\n",
            "Train loss: 0.5311 | val loss : 0.5605 | train acc: 0.7460 | val acc: 0.7344\n"
          ]
        },
        {
          "output_type": "display_data",
          "data": {
            "text/plain": [
              "training the model at fold3:   0%|          | 0/300 [00:00<?, ?it/s]"
            ],
            "application/vnd.jupyter.widget-view+json": {
              "version_major": 2,
              "version_minor": 0,
              "model_id": "6a6549c7f138467f9786d010730b9894"
            }
          },
          "metadata": {}
        },
        {
          "output_type": "stream",
          "name": "stdout",
          "text": [
            "--- Fold3 ---\n",
            "Best Model @ epoch : 1\n",
            "Train loss: 0.6353 | val loss : 0.6262 | train acc: 0.6589 | val acc: 0.8000\n"
          ]
        },
        {
          "output_type": "display_data",
          "data": {
            "text/plain": [
              "training the model at fold4:   0%|          | 0/300 [00:00<?, ?it/s]"
            ],
            "application/vnd.jupyter.widget-view+json": {
              "version_major": 2,
              "version_minor": 0,
              "model_id": "30e80ac328b445f8979d2f89cbb89e13"
            }
          },
          "metadata": {}
        },
        {
          "output_type": "stream",
          "name": "stdout",
          "text": [
            "--- Fold4 ---\n",
            "Best Model @ epoch : 176\n",
            "Train loss: 0.5367 | val loss : 0.5441 | train acc: 0.7371 | val acc: 0.8000\n"
          ]
        },
        {
          "output_type": "display_data",
          "data": {
            "text/plain": [
              "training the model at fold5:   0%|          | 0/300 [00:00<?, ?it/s]"
            ],
            "application/vnd.jupyter.widget-view+json": {
              "version_major": 2,
              "version_minor": 0,
              "model_id": "bd79bb1b7dba43eb89515c35461f97f4"
            }
          },
          "metadata": {}
        },
        {
          "output_type": "stream",
          "name": "stdout",
          "text": [
            "--- Fold5 ---\n",
            "Best Model @ epoch : 197\n",
            "Train loss: 0.5199 | val loss : 0.5008 | train acc: 0.7339 | val acc: 0.8125\n"
          ]
        }
      ]
    },
    {
      "cell_type": "markdown",
      "source": [
        "# Voting Ensemble (Fundamental) ⛪\n",
        "- since the model in fold 5 is the strongest model, then, an inference will keep respect to that model"
      ],
      "metadata": {
        "id": "iWIQbHsER35H"
      }
    },
    {
      "cell_type": "code",
      "source": [
        "def esb_evaluate(path:str):\n",
        "  # Load the saved state dictionary of the best model (acc: 0.81) into the model\n",
        "  model = cnn1Dmodel(input_features=1, out_features=1,num_labels=2,k_size= 2,stride= 2)\n",
        "  model.load_state_dict(torch.load(path))\n",
        "\n",
        "  prediction = [] # to keep the pseudo labels\n",
        "  label_list = y_test.tolist()\n",
        "  test_dataloader = DataLoader(test_dataset, batch_size=1)\n",
        "\n",
        "  # convert the model into double format\n",
        "  model = model.double()\n",
        "  for index, (feature, label) in enumerate(test_dataloader):\n",
        "    with torch.inference_mode():\n",
        "      label = label.unsqueeze(-1).unsqueeze(-1)\n",
        "      logit = model(feature.unsqueeze(1))\n",
        "      prob = torch.sigmoid(logit)\n",
        "      # get condition part\n",
        "      if (prob > 0.5):\n",
        "        prediction.append(1)\n",
        "      else:\n",
        "        prediction.append(0)\n",
        "\n",
        "  check = [1 if (int(prediction[i]) == int(label_list[i])) else 0 for i in range(len(prediction))]\n",
        "  score = sum(check) / len(prediction)\n",
        "  return prediction\n"
      ],
      "metadata": {
        "id": "rnDo15JQTz_s"
      },
      "execution_count": 95,
      "outputs": []
    },
    {
      "cell_type": "code",
      "source": [
        "# make a vote ensemble on 5 models from each fold\n",
        "prediction = {}\n",
        "weak_models = [wmi for wmi in glob.glob('/content/ensemble/*')]\n",
        "for i in range(len(weak_models)):\n",
        "  prediction[f'weak_model{i}'] = esb_evaluate(weak_models[i])"
      ],
      "metadata": {
        "id": "r77BPVNFR3Qb"
      },
      "execution_count": 97,
      "outputs": []
    },
    {
      "cell_type": "code",
      "source": [
        "# get a dataframe\n",
        "total_prediction = pd.DataFrame(prediction)\n",
        "total_prediction.head(3)"
      ],
      "metadata": {
        "colab": {
          "base_uri": "https://localhost:8080/",
          "height": 143
        },
        "id": "KEFw76oLUBjN",
        "outputId": "95666cde-0345-4df0-87d6-bf168803b031"
      },
      "execution_count": 101,
      "outputs": [
        {
          "output_type": "execute_result",
          "data": {
            "text/plain": [
              "   weak_model0  weak_model1  weak_model2  weak_model3  weak_model4\n",
              "0            0            0            0            0            0\n",
              "1            0            0            0            0            0\n",
              "2            0            0            0            0            0"
            ],
            "text/html": [
              "\n",
              "  <div id=\"df-d601f4f9-a665-45bc-8fff-845776b092d1\" class=\"colab-df-container\">\n",
              "    <div>\n",
              "<style scoped>\n",
              "    .dataframe tbody tr th:only-of-type {\n",
              "        vertical-align: middle;\n",
              "    }\n",
              "\n",
              "    .dataframe tbody tr th {\n",
              "        vertical-align: top;\n",
              "    }\n",
              "\n",
              "    .dataframe thead th {\n",
              "        text-align: right;\n",
              "    }\n",
              "</style>\n",
              "<table border=\"1\" class=\"dataframe\">\n",
              "  <thead>\n",
              "    <tr style=\"text-align: right;\">\n",
              "      <th></th>\n",
              "      <th>weak_model0</th>\n",
              "      <th>weak_model1</th>\n",
              "      <th>weak_model2</th>\n",
              "      <th>weak_model3</th>\n",
              "      <th>weak_model4</th>\n",
              "    </tr>\n",
              "  </thead>\n",
              "  <tbody>\n",
              "    <tr>\n",
              "      <th>0</th>\n",
              "      <td>0</td>\n",
              "      <td>0</td>\n",
              "      <td>0</td>\n",
              "      <td>0</td>\n",
              "      <td>0</td>\n",
              "    </tr>\n",
              "    <tr>\n",
              "      <th>1</th>\n",
              "      <td>0</td>\n",
              "      <td>0</td>\n",
              "      <td>0</td>\n",
              "      <td>0</td>\n",
              "      <td>0</td>\n",
              "    </tr>\n",
              "    <tr>\n",
              "      <th>2</th>\n",
              "      <td>0</td>\n",
              "      <td>0</td>\n",
              "      <td>0</td>\n",
              "      <td>0</td>\n",
              "      <td>0</td>\n",
              "    </tr>\n",
              "  </tbody>\n",
              "</table>\n",
              "</div>\n",
              "    <div class=\"colab-df-buttons\">\n",
              "\n",
              "  <div class=\"colab-df-container\">\n",
              "    <button class=\"colab-df-convert\" onclick=\"convertToInteractive('df-d601f4f9-a665-45bc-8fff-845776b092d1')\"\n",
              "            title=\"Convert this dataframe to an interactive table.\"\n",
              "            style=\"display:none;\">\n",
              "\n",
              "  <svg xmlns=\"http://www.w3.org/2000/svg\" height=\"24px\" viewBox=\"0 -960 960 960\">\n",
              "    <path d=\"M120-120v-720h720v720H120Zm60-500h600v-160H180v160Zm220 220h160v-160H400v160Zm0 220h160v-160H400v160ZM180-400h160v-160H180v160Zm440 0h160v-160H620v160ZM180-180h160v-160H180v160Zm440 0h160v-160H620v160Z\"/>\n",
              "  </svg>\n",
              "    </button>\n",
              "\n",
              "  <style>\n",
              "    .colab-df-container {\n",
              "      display:flex;\n",
              "      gap: 12px;\n",
              "    }\n",
              "\n",
              "    .colab-df-convert {\n",
              "      background-color: #E8F0FE;\n",
              "      border: none;\n",
              "      border-radius: 50%;\n",
              "      cursor: pointer;\n",
              "      display: none;\n",
              "      fill: #1967D2;\n",
              "      height: 32px;\n",
              "      padding: 0 0 0 0;\n",
              "      width: 32px;\n",
              "    }\n",
              "\n",
              "    .colab-df-convert:hover {\n",
              "      background-color: #E2EBFA;\n",
              "      box-shadow: 0px 1px 2px rgba(60, 64, 67, 0.3), 0px 1px 3px 1px rgba(60, 64, 67, 0.15);\n",
              "      fill: #174EA6;\n",
              "    }\n",
              "\n",
              "    .colab-df-buttons div {\n",
              "      margin-bottom: 4px;\n",
              "    }\n",
              "\n",
              "    [theme=dark] .colab-df-convert {\n",
              "      background-color: #3B4455;\n",
              "      fill: #D2E3FC;\n",
              "    }\n",
              "\n",
              "    [theme=dark] .colab-df-convert:hover {\n",
              "      background-color: #434B5C;\n",
              "      box-shadow: 0px 1px 3px 1px rgba(0, 0, 0, 0.15);\n",
              "      filter: drop-shadow(0px 1px 2px rgba(0, 0, 0, 0.3));\n",
              "      fill: #FFFFFF;\n",
              "    }\n",
              "  </style>\n",
              "\n",
              "    <script>\n",
              "      const buttonEl =\n",
              "        document.querySelector('#df-d601f4f9-a665-45bc-8fff-845776b092d1 button.colab-df-convert');\n",
              "      buttonEl.style.display =\n",
              "        google.colab.kernel.accessAllowed ? 'block' : 'none';\n",
              "\n",
              "      async function convertToInteractive(key) {\n",
              "        const element = document.querySelector('#df-d601f4f9-a665-45bc-8fff-845776b092d1');\n",
              "        const dataTable =\n",
              "          await google.colab.kernel.invokeFunction('convertToInteractive',\n",
              "                                                    [key], {});\n",
              "        if (!dataTable) return;\n",
              "\n",
              "        const docLinkHtml = 'Like what you see? Visit the ' +\n",
              "          '<a target=\"_blank\" href=https://colab.research.google.com/notebooks/data_table.ipynb>data table notebook</a>'\n",
              "          + ' to learn more about interactive tables.';\n",
              "        element.innerHTML = '';\n",
              "        dataTable['output_type'] = 'display_data';\n",
              "        await google.colab.output.renderOutput(dataTable, element);\n",
              "        const docLink = document.createElement('div');\n",
              "        docLink.innerHTML = docLinkHtml;\n",
              "        element.appendChild(docLink);\n",
              "      }\n",
              "    </script>\n",
              "  </div>\n",
              "\n",
              "\n",
              "<div id=\"df-703a040c-2bcc-4362-9d4e-bfb2394d01c7\">\n",
              "  <button class=\"colab-df-quickchart\" onclick=\"quickchart('df-703a040c-2bcc-4362-9d4e-bfb2394d01c7')\"\n",
              "            title=\"Suggest charts.\"\n",
              "            style=\"display:none;\">\n",
              "\n",
              "<svg xmlns=\"http://www.w3.org/2000/svg\" height=\"24px\"viewBox=\"0 0 24 24\"\n",
              "     width=\"24px\">\n",
              "    <g>\n",
              "        <path d=\"M19 3H5c-1.1 0-2 .9-2 2v14c0 1.1.9 2 2 2h14c1.1 0 2-.9 2-2V5c0-1.1-.9-2-2-2zM9 17H7v-7h2v7zm4 0h-2V7h2v10zm4 0h-2v-4h2v4z\"/>\n",
              "    </g>\n",
              "</svg>\n",
              "  </button>\n",
              "\n",
              "<style>\n",
              "  .colab-df-quickchart {\n",
              "      --bg-color: #E8F0FE;\n",
              "      --fill-color: #1967D2;\n",
              "      --hover-bg-color: #E2EBFA;\n",
              "      --hover-fill-color: #174EA6;\n",
              "      --disabled-fill-color: #AAA;\n",
              "      --disabled-bg-color: #DDD;\n",
              "  }\n",
              "\n",
              "  [theme=dark] .colab-df-quickchart {\n",
              "      --bg-color: #3B4455;\n",
              "      --fill-color: #D2E3FC;\n",
              "      --hover-bg-color: #434B5C;\n",
              "      --hover-fill-color: #FFFFFF;\n",
              "      --disabled-bg-color: #3B4455;\n",
              "      --disabled-fill-color: #666;\n",
              "  }\n",
              "\n",
              "  .colab-df-quickchart {\n",
              "    background-color: var(--bg-color);\n",
              "    border: none;\n",
              "    border-radius: 50%;\n",
              "    cursor: pointer;\n",
              "    display: none;\n",
              "    fill: var(--fill-color);\n",
              "    height: 32px;\n",
              "    padding: 0;\n",
              "    width: 32px;\n",
              "  }\n",
              "\n",
              "  .colab-df-quickchart:hover {\n",
              "    background-color: var(--hover-bg-color);\n",
              "    box-shadow: 0 1px 2px rgba(60, 64, 67, 0.3), 0 1px 3px 1px rgba(60, 64, 67, 0.15);\n",
              "    fill: var(--button-hover-fill-color);\n",
              "  }\n",
              "\n",
              "  .colab-df-quickchart-complete:disabled,\n",
              "  .colab-df-quickchart-complete:disabled:hover {\n",
              "    background-color: var(--disabled-bg-color);\n",
              "    fill: var(--disabled-fill-color);\n",
              "    box-shadow: none;\n",
              "  }\n",
              "\n",
              "  .colab-df-spinner {\n",
              "    border: 2px solid var(--fill-color);\n",
              "    border-color: transparent;\n",
              "    border-bottom-color: var(--fill-color);\n",
              "    animation:\n",
              "      spin 1s steps(1) infinite;\n",
              "  }\n",
              "\n",
              "  @keyframes spin {\n",
              "    0% {\n",
              "      border-color: transparent;\n",
              "      border-bottom-color: var(--fill-color);\n",
              "      border-left-color: var(--fill-color);\n",
              "    }\n",
              "    20% {\n",
              "      border-color: transparent;\n",
              "      border-left-color: var(--fill-color);\n",
              "      border-top-color: var(--fill-color);\n",
              "    }\n",
              "    30% {\n",
              "      border-color: transparent;\n",
              "      border-left-color: var(--fill-color);\n",
              "      border-top-color: var(--fill-color);\n",
              "      border-right-color: var(--fill-color);\n",
              "    }\n",
              "    40% {\n",
              "      border-color: transparent;\n",
              "      border-right-color: var(--fill-color);\n",
              "      border-top-color: var(--fill-color);\n",
              "    }\n",
              "    60% {\n",
              "      border-color: transparent;\n",
              "      border-right-color: var(--fill-color);\n",
              "    }\n",
              "    80% {\n",
              "      border-color: transparent;\n",
              "      border-right-color: var(--fill-color);\n",
              "      border-bottom-color: var(--fill-color);\n",
              "    }\n",
              "    90% {\n",
              "      border-color: transparent;\n",
              "      border-bottom-color: var(--fill-color);\n",
              "    }\n",
              "  }\n",
              "</style>\n",
              "\n",
              "  <script>\n",
              "    async function quickchart(key) {\n",
              "      const quickchartButtonEl =\n",
              "        document.querySelector('#' + key + ' button');\n",
              "      quickchartButtonEl.disabled = true;  // To prevent multiple clicks.\n",
              "      quickchartButtonEl.classList.add('colab-df-spinner');\n",
              "      try {\n",
              "        const charts = await google.colab.kernel.invokeFunction(\n",
              "            'suggestCharts', [key], {});\n",
              "      } catch (error) {\n",
              "        console.error('Error during call to suggestCharts:', error);\n",
              "      }\n",
              "      quickchartButtonEl.classList.remove('colab-df-spinner');\n",
              "      quickchartButtonEl.classList.add('colab-df-quickchart-complete');\n",
              "    }\n",
              "    (() => {\n",
              "      let quickchartButtonEl =\n",
              "        document.querySelector('#df-703a040c-2bcc-4362-9d4e-bfb2394d01c7 button');\n",
              "      quickchartButtonEl.style.display =\n",
              "        google.colab.kernel.accessAllowed ? 'block' : 'none';\n",
              "    })();\n",
              "  </script>\n",
              "</div>\n",
              "    </div>\n",
              "  </div>\n"
            ]
          },
          "metadata": {},
          "execution_count": 101
        }
      ]
    },
    {
      "cell_type": "code",
      "source": [
        "total_prediction['ensemble_predictions'] = total_prediction.mode(axis=1)\n",
        "total_prediction.tail(5)"
      ],
      "metadata": {
        "colab": {
          "base_uri": "https://localhost:8080/",
          "height": 206
        },
        "id": "bzJFe4hHUWEE",
        "outputId": "19c90d5b-5190-410f-958a-5f32c6dd26a9"
      },
      "execution_count": 110,
      "outputs": [
        {
          "output_type": "execute_result",
          "data": {
            "text/plain": [
              "     weak_model0  weak_model1  weak_model2  weak_model3  weak_model4  \\\n",
              "148            0            0            0            0            0   \n",
              "149            0            0            0            0            0   \n",
              "150            0            0            0            0            0   \n",
              "151            0            1            0            1            0   \n",
              "152            0            0            0            0            0   \n",
              "\n",
              "     ensemble_predictions  \n",
              "148                     0  \n",
              "149                     0  \n",
              "150                     0  \n",
              "151                     0  \n",
              "152                     0  "
            ],
            "text/html": [
              "\n",
              "  <div id=\"df-84046474-847f-43c2-9006-2d5a34c4e050\" class=\"colab-df-container\">\n",
              "    <div>\n",
              "<style scoped>\n",
              "    .dataframe tbody tr th:only-of-type {\n",
              "        vertical-align: middle;\n",
              "    }\n",
              "\n",
              "    .dataframe tbody tr th {\n",
              "        vertical-align: top;\n",
              "    }\n",
              "\n",
              "    .dataframe thead th {\n",
              "        text-align: right;\n",
              "    }\n",
              "</style>\n",
              "<table border=\"1\" class=\"dataframe\">\n",
              "  <thead>\n",
              "    <tr style=\"text-align: right;\">\n",
              "      <th></th>\n",
              "      <th>weak_model0</th>\n",
              "      <th>weak_model1</th>\n",
              "      <th>weak_model2</th>\n",
              "      <th>weak_model3</th>\n",
              "      <th>weak_model4</th>\n",
              "      <th>ensemble_predictions</th>\n",
              "    </tr>\n",
              "  </thead>\n",
              "  <tbody>\n",
              "    <tr>\n",
              "      <th>148</th>\n",
              "      <td>0</td>\n",
              "      <td>0</td>\n",
              "      <td>0</td>\n",
              "      <td>0</td>\n",
              "      <td>0</td>\n",
              "      <td>0</td>\n",
              "    </tr>\n",
              "    <tr>\n",
              "      <th>149</th>\n",
              "      <td>0</td>\n",
              "      <td>0</td>\n",
              "      <td>0</td>\n",
              "      <td>0</td>\n",
              "      <td>0</td>\n",
              "      <td>0</td>\n",
              "    </tr>\n",
              "    <tr>\n",
              "      <th>150</th>\n",
              "      <td>0</td>\n",
              "      <td>0</td>\n",
              "      <td>0</td>\n",
              "      <td>0</td>\n",
              "      <td>0</td>\n",
              "      <td>0</td>\n",
              "    </tr>\n",
              "    <tr>\n",
              "      <th>151</th>\n",
              "      <td>0</td>\n",
              "      <td>1</td>\n",
              "      <td>0</td>\n",
              "      <td>1</td>\n",
              "      <td>0</td>\n",
              "      <td>0</td>\n",
              "    </tr>\n",
              "    <tr>\n",
              "      <th>152</th>\n",
              "      <td>0</td>\n",
              "      <td>0</td>\n",
              "      <td>0</td>\n",
              "      <td>0</td>\n",
              "      <td>0</td>\n",
              "      <td>0</td>\n",
              "    </tr>\n",
              "  </tbody>\n",
              "</table>\n",
              "</div>\n",
              "    <div class=\"colab-df-buttons\">\n",
              "\n",
              "  <div class=\"colab-df-container\">\n",
              "    <button class=\"colab-df-convert\" onclick=\"convertToInteractive('df-84046474-847f-43c2-9006-2d5a34c4e050')\"\n",
              "            title=\"Convert this dataframe to an interactive table.\"\n",
              "            style=\"display:none;\">\n",
              "\n",
              "  <svg xmlns=\"http://www.w3.org/2000/svg\" height=\"24px\" viewBox=\"0 -960 960 960\">\n",
              "    <path d=\"M120-120v-720h720v720H120Zm60-500h600v-160H180v160Zm220 220h160v-160H400v160Zm0 220h160v-160H400v160ZM180-400h160v-160H180v160Zm440 0h160v-160H620v160ZM180-180h160v-160H180v160Zm440 0h160v-160H620v160Z\"/>\n",
              "  </svg>\n",
              "    </button>\n",
              "\n",
              "  <style>\n",
              "    .colab-df-container {\n",
              "      display:flex;\n",
              "      gap: 12px;\n",
              "    }\n",
              "\n",
              "    .colab-df-convert {\n",
              "      background-color: #E8F0FE;\n",
              "      border: none;\n",
              "      border-radius: 50%;\n",
              "      cursor: pointer;\n",
              "      display: none;\n",
              "      fill: #1967D2;\n",
              "      height: 32px;\n",
              "      padding: 0 0 0 0;\n",
              "      width: 32px;\n",
              "    }\n",
              "\n",
              "    .colab-df-convert:hover {\n",
              "      background-color: #E2EBFA;\n",
              "      box-shadow: 0px 1px 2px rgba(60, 64, 67, 0.3), 0px 1px 3px 1px rgba(60, 64, 67, 0.15);\n",
              "      fill: #174EA6;\n",
              "    }\n",
              "\n",
              "    .colab-df-buttons div {\n",
              "      margin-bottom: 4px;\n",
              "    }\n",
              "\n",
              "    [theme=dark] .colab-df-convert {\n",
              "      background-color: #3B4455;\n",
              "      fill: #D2E3FC;\n",
              "    }\n",
              "\n",
              "    [theme=dark] .colab-df-convert:hover {\n",
              "      background-color: #434B5C;\n",
              "      box-shadow: 0px 1px 3px 1px rgba(0, 0, 0, 0.15);\n",
              "      filter: drop-shadow(0px 1px 2px rgba(0, 0, 0, 0.3));\n",
              "      fill: #FFFFFF;\n",
              "    }\n",
              "  </style>\n",
              "\n",
              "    <script>\n",
              "      const buttonEl =\n",
              "        document.querySelector('#df-84046474-847f-43c2-9006-2d5a34c4e050 button.colab-df-convert');\n",
              "      buttonEl.style.display =\n",
              "        google.colab.kernel.accessAllowed ? 'block' : 'none';\n",
              "\n",
              "      async function convertToInteractive(key) {\n",
              "        const element = document.querySelector('#df-84046474-847f-43c2-9006-2d5a34c4e050');\n",
              "        const dataTable =\n",
              "          await google.colab.kernel.invokeFunction('convertToInteractive',\n",
              "                                                    [key], {});\n",
              "        if (!dataTable) return;\n",
              "\n",
              "        const docLinkHtml = 'Like what you see? Visit the ' +\n",
              "          '<a target=\"_blank\" href=https://colab.research.google.com/notebooks/data_table.ipynb>data table notebook</a>'\n",
              "          + ' to learn more about interactive tables.';\n",
              "        element.innerHTML = '';\n",
              "        dataTable['output_type'] = 'display_data';\n",
              "        await google.colab.output.renderOutput(dataTable, element);\n",
              "        const docLink = document.createElement('div');\n",
              "        docLink.innerHTML = docLinkHtml;\n",
              "        element.appendChild(docLink);\n",
              "      }\n",
              "    </script>\n",
              "  </div>\n",
              "\n",
              "\n",
              "<div id=\"df-a6f2a988-df4c-4bb2-b77b-f1fb746ddd07\">\n",
              "  <button class=\"colab-df-quickchart\" onclick=\"quickchart('df-a6f2a988-df4c-4bb2-b77b-f1fb746ddd07')\"\n",
              "            title=\"Suggest charts.\"\n",
              "            style=\"display:none;\">\n",
              "\n",
              "<svg xmlns=\"http://www.w3.org/2000/svg\" height=\"24px\"viewBox=\"0 0 24 24\"\n",
              "     width=\"24px\">\n",
              "    <g>\n",
              "        <path d=\"M19 3H5c-1.1 0-2 .9-2 2v14c0 1.1.9 2 2 2h14c1.1 0 2-.9 2-2V5c0-1.1-.9-2-2-2zM9 17H7v-7h2v7zm4 0h-2V7h2v10zm4 0h-2v-4h2v4z\"/>\n",
              "    </g>\n",
              "</svg>\n",
              "  </button>\n",
              "\n",
              "<style>\n",
              "  .colab-df-quickchart {\n",
              "      --bg-color: #E8F0FE;\n",
              "      --fill-color: #1967D2;\n",
              "      --hover-bg-color: #E2EBFA;\n",
              "      --hover-fill-color: #174EA6;\n",
              "      --disabled-fill-color: #AAA;\n",
              "      --disabled-bg-color: #DDD;\n",
              "  }\n",
              "\n",
              "  [theme=dark] .colab-df-quickchart {\n",
              "      --bg-color: #3B4455;\n",
              "      --fill-color: #D2E3FC;\n",
              "      --hover-bg-color: #434B5C;\n",
              "      --hover-fill-color: #FFFFFF;\n",
              "      --disabled-bg-color: #3B4455;\n",
              "      --disabled-fill-color: #666;\n",
              "  }\n",
              "\n",
              "  .colab-df-quickchart {\n",
              "    background-color: var(--bg-color);\n",
              "    border: none;\n",
              "    border-radius: 50%;\n",
              "    cursor: pointer;\n",
              "    display: none;\n",
              "    fill: var(--fill-color);\n",
              "    height: 32px;\n",
              "    padding: 0;\n",
              "    width: 32px;\n",
              "  }\n",
              "\n",
              "  .colab-df-quickchart:hover {\n",
              "    background-color: var(--hover-bg-color);\n",
              "    box-shadow: 0 1px 2px rgba(60, 64, 67, 0.3), 0 1px 3px 1px rgba(60, 64, 67, 0.15);\n",
              "    fill: var(--button-hover-fill-color);\n",
              "  }\n",
              "\n",
              "  .colab-df-quickchart-complete:disabled,\n",
              "  .colab-df-quickchart-complete:disabled:hover {\n",
              "    background-color: var(--disabled-bg-color);\n",
              "    fill: var(--disabled-fill-color);\n",
              "    box-shadow: none;\n",
              "  }\n",
              "\n",
              "  .colab-df-spinner {\n",
              "    border: 2px solid var(--fill-color);\n",
              "    border-color: transparent;\n",
              "    border-bottom-color: var(--fill-color);\n",
              "    animation:\n",
              "      spin 1s steps(1) infinite;\n",
              "  }\n",
              "\n",
              "  @keyframes spin {\n",
              "    0% {\n",
              "      border-color: transparent;\n",
              "      border-bottom-color: var(--fill-color);\n",
              "      border-left-color: var(--fill-color);\n",
              "    }\n",
              "    20% {\n",
              "      border-color: transparent;\n",
              "      border-left-color: var(--fill-color);\n",
              "      border-top-color: var(--fill-color);\n",
              "    }\n",
              "    30% {\n",
              "      border-color: transparent;\n",
              "      border-left-color: var(--fill-color);\n",
              "      border-top-color: var(--fill-color);\n",
              "      border-right-color: var(--fill-color);\n",
              "    }\n",
              "    40% {\n",
              "      border-color: transparent;\n",
              "      border-right-color: var(--fill-color);\n",
              "      border-top-color: var(--fill-color);\n",
              "    }\n",
              "    60% {\n",
              "      border-color: transparent;\n",
              "      border-right-color: var(--fill-color);\n",
              "    }\n",
              "    80% {\n",
              "      border-color: transparent;\n",
              "      border-right-color: var(--fill-color);\n",
              "      border-bottom-color: var(--fill-color);\n",
              "    }\n",
              "    90% {\n",
              "      border-color: transparent;\n",
              "      border-bottom-color: var(--fill-color);\n",
              "    }\n",
              "  }\n",
              "</style>\n",
              "\n",
              "  <script>\n",
              "    async function quickchart(key) {\n",
              "      const quickchartButtonEl =\n",
              "        document.querySelector('#' + key + ' button');\n",
              "      quickchartButtonEl.disabled = true;  // To prevent multiple clicks.\n",
              "      quickchartButtonEl.classList.add('colab-df-spinner');\n",
              "      try {\n",
              "        const charts = await google.colab.kernel.invokeFunction(\n",
              "            'suggestCharts', [key], {});\n",
              "      } catch (error) {\n",
              "        console.error('Error during call to suggestCharts:', error);\n",
              "      }\n",
              "      quickchartButtonEl.classList.remove('colab-df-spinner');\n",
              "      quickchartButtonEl.classList.add('colab-df-quickchart-complete');\n",
              "    }\n",
              "    (() => {\n",
              "      let quickchartButtonEl =\n",
              "        document.querySelector('#df-a6f2a988-df4c-4bb2-b77b-f1fb746ddd07 button');\n",
              "      quickchartButtonEl.style.display =\n",
              "        google.colab.kernel.accessAllowed ? 'block' : 'none';\n",
              "    })();\n",
              "  </script>\n",
              "</div>\n",
              "    </div>\n",
              "  </div>\n"
            ]
          },
          "metadata": {},
          "execution_count": 110
        }
      ]
    },
    {
      "cell_type": "code",
      "source": [
        "esb_preds = list(total_prediction['ensemble_predictions'])\n",
        "print(len(esb_preds))"
      ],
      "metadata": {
        "colab": {
          "base_uri": "https://localhost:8080/"
        },
        "id": "0c2_x4_BWR55",
        "outputId": "722ddf99-3dd3-4d9e-e0bf-1acb279ab85e"
      },
      "execution_count": 112,
      "outputs": [
        {
          "output_type": "stream",
          "name": "stdout",
          "text": [
            "153\n"
          ]
        }
      ]
    },
    {
      "cell_type": "code",
      "source": [
        "# evaluate\n",
        "label_list = y_test.tolist()\n",
        "check = [1 if (int(esb_preds [i]) == int(label_list[i])) else 0 for i in range(len(esb_preds))]\n",
        "score = sum(check) / len(esb_preds )\n",
        "print('Accuracy:', score)"
      ],
      "metadata": {
        "colab": {
          "base_uri": "https://localhost:8080/"
        },
        "id": "SDL14p6VV7v0",
        "outputId": "e9a54e72-c6b0-46ae-8da3-83428d308af2"
      },
      "execution_count": 113,
      "outputs": [
        {
          "output_type": "stream",
          "name": "stdout",
          "text": [
            "Accuracy: 0.7843137254901961\n"
          ]
        }
      ]
    },
    {
      "cell_type": "markdown",
      "source": [
        "# Model Soup Implementation (1 Jul 2022) 🥪\n",
        "- Top3 `state-of-the-art` implementation that did not increase the time complexity and can be used to improve an accuracy"
      ],
      "metadata": {
        "id": "DGmkW-GZqHAD"
      }
    },
    {
      "cell_type": "markdown",
      "source": [
        "![modelsoup.PNG](data:image/png;base64,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)"
      ],
      "metadata": {
        "id": "UQqbm-pRQXYQ"
      }
    },
    {
      "cell_type": "markdown",
      "source": [
        "![sota+imagenet.PNG](data:image/png;base64,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)"
      ],
      "metadata": {
        "id": "EByL1U_2Rsu0"
      }
    },
    {
      "cell_type": "code",
      "source": [
        "def evaluate(path:str):\n",
        "  # Load the saved state dictionary of the best model (acc: 0.81) into the model\n",
        "  model = cnn1Dmodel(input_features=1, out_features=1,num_labels=2,k_size= 2,stride= 2)\n",
        "  model.load_state_dict(torch.load(path))\n",
        "\n",
        "  prediction = [] # to keep the pseudo labels\n",
        "  label_list = y_test.tolist()\n",
        "  test_dataloader = DataLoader(test_dataset, batch_size=1)\n",
        "\n",
        "  # convert the model into double format\n",
        "  model = model.double()\n",
        "  for index, (feature, label) in enumerate(test_dataloader):\n",
        "    with torch.inference_mode():\n",
        "      label = label.unsqueeze(-1).unsqueeze(-1)\n",
        "      logit = model(feature.unsqueeze(1))\n",
        "      prob = torch.sigmoid(logit)\n",
        "      # get condition part\n",
        "      if (prob > 0.5):\n",
        "        prediction.append(1)\n",
        "      else:\n",
        "        prediction.append(0)\n",
        "\n",
        "  check = [1 if (int(prediction[i]) == int(label_list[i])) else 0 for i in range(len(prediction))]\n",
        "  score = sum(check) / len(prediction)\n",
        "  return prediction, score\n"
      ],
      "metadata": {
        "id": "RvZptNZGqJFS"
      },
      "execution_count": 90,
      "outputs": []
    },
    {
      "cell_type": "code",
      "source": [
        "def test(test_model:nn.Module)->float:\n",
        "  prediction = [] # to keep the pseudo labels\n",
        "  label_list = y_test.tolist()\n",
        "  test_dataloader = DataLoader(test_dataset, batch_size=1)\n",
        "\n",
        "  # convert the model into double format\n",
        "  test_model = test_model.double()\n",
        "  for index, (feature, label) in enumerate(test_dataloader):\n",
        "    with torch.inference_mode():\n",
        "      label = label.unsqueeze(-1).unsqueeze(-1)\n",
        "      logit = test_model(feature.unsqueeze(1))\n",
        "      prob = torch.sigmoid(logit)\n",
        "      # get condition part\n",
        "      if (prob > 0.5):\n",
        "        prediction.append(1)\n",
        "      else:\n",
        "        prediction.append(0)\n",
        "\n",
        "  check = [1 if (int(prediction[i]) == int(label_list[i])) else 0 for i in range(len(prediction))]\n",
        "  score = sum(check) / len(prediction)\n",
        "  return score"
      ],
      "metadata": {
        "id": "pw8XjL_2NY1c"
      },
      "execution_count": 81,
      "outputs": []
    },
    {
      "cell_type": "code",
      "source": [
        "# check for weight file\n",
        "for weight in glob.glob('/content/ensemble/*'):\n",
        "  print(weight)"
      ],
      "metadata": {
        "colab": {
          "base_uri": "https://localhost:8080/"
        },
        "id": "p1ncjANoKmQ6",
        "outputId": "753cc7b1-1d84-4d52-f542-7874aa9b794a"
      },
      "execution_count": 82,
      "outputs": [
        {
          "output_type": "stream",
          "name": "stdout",
          "text": [
            "/content/ensemble/best_model_fold2.pth\n",
            "/content/ensemble/best_model_fold4.pth\n",
            "/content/ensemble/best_model_fold3.pth\n",
            "/content/ensemble/best_model_fold5.pth\n",
            "/content/ensemble/best_model_fold1.pth\n"
          ]
        }
      ]
    },
    {
      "cell_type": "code",
      "source": [
        "# set components for model soup\n",
        "device = 'cuda' if torch.cuda.is_available() else 'cpu'\n",
        "\n",
        "state_dicts = [] # list containing model weight\n",
        "for weight_file in glob.glob('/content/ensemble/*'):\n",
        "  state_dicts.append(torch.load(weight_file, map_location=device))\n"
      ],
      "metadata": {
        "id": "x-JC0kJLKP3b"
      },
      "execution_count": 83,
      "outputs": []
    },
    {
      "cell_type": "code",
      "source": [
        "def get_model(state_dicts, alphal):\n",
        "  model = cnn1Dmodel(input_features=1, out_features=1,num_labels=2,k_size= 2,stride= 2)\n",
        "  sd = {k : state_dicts[0][k].clone() * alphal[0] for k in state_dicts[0].keys()}\n",
        "  for i in range(1, len(state_dicts)):\n",
        "      for k in state_dicts[i].keys():\n",
        "          sd[k] = sd[k] + state_dicts[i][k].clone() * alphal[i]\n",
        "  model.load_state_dict(sd)\n",
        "  model = model.to(device)\n",
        "  return model"
      ],
      "metadata": {
        "id": "UuaYz28cLq_Q"
      },
      "execution_count": 84,
      "outputs": []
    },
    {
      "cell_type": "code",
      "source": [
        "# get validation result\n",
        "val_results = []\n",
        "for weight_file in glob.glob('/content/ensemble/*'):\n",
        "  val_results.append(evaluate(weight_file))"
      ],
      "metadata": {
        "id": "xH1eSraEL7JX"
      },
      "execution_count": 85,
      "outputs": []
    },
    {
      "cell_type": "code",
      "source": [
        "names = [f'Model {i+1}' for i in range(len(state_dicts))]\n",
        "plt.bar(names, val_results)\n",
        "plt.title(\"Test Accuracy By Model from each Kfold\")\n",
        "plt.ylim([0.6,1])\n",
        "plt.xticks(rotation=30, ha='right')\n",
        "plt.grid(True)\n",
        "plt.show()"
      ],
      "metadata": {
        "colab": {
          "base_uri": "https://localhost:8080/",
          "height": 478
        },
        "id": "GaE7n8PMMLsO",
        "outputId": "a0218839-3fc4-4296-974b-8ba3ec8ad1f2"
      },
      "execution_count": 86,
      "outputs": [
        {
          "output_type": "display_data",
          "data": {
            "text/plain": [
              "<Figure size 640x480 with 1 Axes>"
            ],
            "image/png": "[encoded data removed]"
          },
          "metadata": {}
        }
      ]
    },
    {
      "cell_type": "markdown",
      "source": [
        "# Greedy Soup ⚓"
      ],
      "metadata": {
        "id": "txzQfPiaPJ5L"
      }
    },
    {
      "cell_type": "markdown",
      "source": [
        "![greedysoup.png](data:image/png;base64,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)"
      ],
      "metadata": {
        "id": "LEbqpzYOQavW"
      }
    },
    {
      "cell_type": "code",
      "source": [
        "ranked_candidates = [i for i in range(len(state_dicts))]\n",
        "ranked_candidates.sort(key=lambda x: -val_results[x])\n",
        "\n",
        "current_best = val_results[ranked_candidates[0]]\n",
        "best_ingredients = ranked_candidates[:1]\n",
        "for i in range(1, len(state_dicts)):\n",
        "  # add current index to the ingredients\n",
        "  ingredient_indices = best_ingredients + [ranked_candidates[i]]\n",
        "  alphal = [0 for i in range(len(state_dicts))]\n",
        "  for j in ingredient_indices:\n",
        "    alphal[j] = 1 / len(ingredient_indices)\n",
        "\n",
        "  # benchmark and conditionally append\n",
        "  model = get_model(state_dicts, alphal)\n",
        "  current = test(model)\n",
        "  print(f'Models {ingredient_indices} got {current*100}% on validation.')\n",
        "  if current > current_best:\n",
        "    current_best = current\n",
        "    best_ingredients = ingredient_indices"
      ],
      "metadata": {
        "id": "bcC6xSrhvN7W",
        "colab": {
          "base_uri": "https://localhost:8080/"
        },
        "outputId": "3913c87a-4416-4627-c47a-08e6b2984ac6"
      },
      "execution_count": 87,
      "outputs": [
        {
          "output_type": "stream",
          "name": "stdout",
          "text": [
            "Models [3, 1] got 65.359477124183% on validation.\n",
            "Models [3, 0] got 65.359477124183% on validation.\n",
            "Models [3, 4] got 65.359477124183% on validation.\n",
            "Models [3, 2] got 65.359477124183% on validation.\n"
          ]
        }
      ]
    },
    {
      "cell_type": "code",
      "source": [
        "# implementation of model soup\n",
        "alphal = [0 for i in range(len(state_dicts))]\n",
        "for j in best_ingredients:\n",
        "  alphal[j] = 1 / len(best_ingredients)\n",
        "model = get_model(state_dicts, alphal)\n",
        "\n",
        "val_results.append(test(model))\n",
        "val_results"
      ],
      "metadata": {
        "colab": {
          "base_uri": "https://localhost:8080/"
        },
        "id": "kntPzpS3Od6x",
        "outputId": "e3724f4d-5ffb-4523-b502-76ee3b91da36"
      },
      "execution_count": 88,
      "outputs": [
        {
          "output_type": "execute_result",
          "data": {
            "text/plain": [
              "[0.7777777777777778,\n",
              " 0.7908496732026143,\n",
              " 0.7581699346405228,\n",
              " 0.803921568627451,\n",
              " 0.7712418300653595,\n",
              " 0.803921568627451]"
            ]
          },
          "metadata": {},
          "execution_count": 88
        }
      ]
    },
    {
      "cell_type": "code",
      "source": [
        "names.append(\"Greedy Soup\")\n",
        "plt.bar(names, val_results)\n",
        "plt.title(\"Test Accuracy By Model (after Model Soup)\")\n",
        "plt.ylim([0.6,1])\n",
        "plt.xticks(rotation=30, ha='right')\n",
        "plt.grid(True)\n",
        "plt.show()"
      ],
      "metadata": {
        "colab": {
          "base_uri": "https://localhost:8080/",
          "height": 495
        },
        "id": "if9FncguO_HR",
        "outputId": "38bb6d39-9cff-4c84-b580-48366480c2e3"
      },
      "execution_count": 89,
      "outputs": [
        {
          "output_type": "display_data",
          "data": {
            "text/plain": [
              "<Figure size 640x480 with 1 Axes>"
            ],
            "image/png": "[encoded data removed]"
          },
          "metadata": {}
        }
      ]
    },
    {
      "cell_type": "code",
      "source": [],
      "metadata": {
        "id": "b75M3bslPud3"
      },
      "execution_count": null,
      "outputs": []
    }
  ]
}